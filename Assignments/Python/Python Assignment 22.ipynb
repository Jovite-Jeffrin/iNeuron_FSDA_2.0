{
 "cells": [
  {
   "cell_type": "markdown",
   "id": "a5930685",
   "metadata": {},
   "source": [
    "#### 1. What is the result of the code, and explain?"
   ]
  },
  {
   "cell_type": "code",
   "execution_count": 1,
   "id": "f1871a24",
   "metadata": {},
   "outputs": [
    {
     "name": "stdout",
     "output_type": "stream",
     "text": [
      "iNeuron\n"
     ]
    }
   ],
   "source": [
    "X = 'iNeuron'\n",
    "\n",
    "def func():\n",
    "    print(X)\n",
    "\n",
    "func()"
   ]
  },
  {
   "cell_type": "markdown",
   "id": "d7b4cfef",
   "metadata": {},
   "source": [
    "X is a global variable and we can access the value anywhere in the program. So it's returning the respected value."
   ]
  },
  {
   "cell_type": "markdown",
   "id": "f3952c9a",
   "metadata": {},
   "source": [
    "#### 2. What is the result of the code, and explain?"
   ]
  },
  {
   "cell_type": "code",
   "execution_count": 2,
   "id": "35027379",
   "metadata": {},
   "outputs": [
    {
     "name": "stdout",
     "output_type": "stream",
     "text": [
      "iNeuron\n"
     ]
    }
   ],
   "source": [
    "X = 'iNeuron'\n",
    "def func():\n",
    "    X = 'NI!'\n",
    "\n",
    "func()\n",
    "print(X)"
   ]
  },
  {
   "cell_type": "markdown",
   "id": "516fc4d2",
   "metadata": {},
   "source": [
    "Since the global variable can be accessed anywhere in the program, but we can't access the variable which is present inside the function. This is a local varible which can be accessed only inside the function itself. So, the value X is printing the global variable value \"iNeuron\"."
   ]
  },
  {
   "cell_type": "markdown",
   "id": "a4f9ecf7",
   "metadata": {},
   "source": [
    "#### 3. What does this code print, and why?"
   ]
  },
  {
   "cell_type": "code",
   "execution_count": 3,
   "id": "2a35c3cd",
   "metadata": {},
   "outputs": [
    {
     "name": "stdout",
     "output_type": "stream",
     "text": [
      "NI\n",
      "iNeuron\n"
     ]
    }
   ],
   "source": [
    "X = 'iNeuron'\n",
    "\n",
    "def func():\n",
    "    X = 'NI'\n",
    "    print(X)\n",
    "\n",
    "\n",
    "func()\n",
    "print(X)"
   ]
  },
  {
   "cell_type": "markdown",
   "id": "4af0baee",
   "metadata": {},
   "source": [
    "As we discussed earlier, The X = 'iNeuron' is a global variable and it can be accessed anywhere in the code whearas X = 'NI' is a local variable it can't be accessed outside the function. So even after printing the value X, the global function print(X) which is immutable and access the value of X. So, it's returning the global variable value."
   ]
  },
  {
   "cell_type": "markdown",
   "id": "14db69f8",
   "metadata": {},
   "source": [
    "#### 4. What output does this code produce? Why?"
   ]
  },
  {
   "cell_type": "code",
   "execution_count": 4,
   "id": "77e13f76",
   "metadata": {},
   "outputs": [
    {
     "name": "stdout",
     "output_type": "stream",
     "text": [
      "NI\n"
     ]
    }
   ],
   "source": [
    "X = 'iNeuron'\n",
    "\n",
    "def func():\n",
    "    global X\n",
    "    X = 'NI'\n",
    "\n",
    "func()\n",
    "print(X)"
   ]
  },
  {
   "cell_type": "markdown",
   "id": "f7176d7c",
   "metadata": {},
   "source": [
    "The value X is now made and declared as global. Now the X value can be updated. So the value return as 'NI'."
   ]
  },
  {
   "cell_type": "markdown",
   "id": "f8d97d15",
   "metadata": {},
   "source": [
    "#### 5. What about this code—what’s the output, and why?"
   ]
  },
  {
   "cell_type": "code",
   "execution_count": 13,
   "id": "8c909743",
   "metadata": {},
   "outputs": [
    {
     "data": {
      "text/plain": [
       "'iNeuron'"
      ]
     },
     "execution_count": 13,
     "metadata": {},
     "output_type": "execute_result"
    }
   ],
   "source": [
    "X = 'iNeuron'\n",
    "\n",
    "def func():\n",
    "    X = 'NI'\n",
    "    def nested():\n",
    "        print(X)\n",
    "        nested()\n",
    "\n",
    "func()\n",
    "X"
   ]
  },
  {
   "cell_type": "markdown",
   "id": "cb678e78",
   "metadata": {},
   "source": [
    "Since the value X = 'NI' inside the funtion which cannot be accessible and immutable, the value 'iNeuron' is returned."
   ]
  },
  {
   "cell_type": "markdown",
   "id": "a7670f4e",
   "metadata": {},
   "source": [
    "#### 6. How about this code: what is its output in Python 3, and explain?"
   ]
  },
  {
   "cell_type": "code",
   "execution_count": 15,
   "id": "5eb69453",
   "metadata": {},
   "outputs": [
    {
     "name": "stdout",
     "output_type": "stream",
     "text": [
      "Spam\n"
     ]
    }
   ],
   "source": [
    "def func():\n",
    "    X = 'NI'\n",
    "    def nested():\n",
    "        nonlocal X\n",
    "        X = 'Spam'\n",
    "    nested()\n",
    "    print(X)\n",
    "\n",
    "func()"
   ]
  },
  {
   "cell_type": "markdown",
   "id": "f6bb6f2d",
   "metadata": {},
   "source": [
    "The nonlocal variable are used in the nested functions. The value will become neither local nor global variable. So the value will be updated. "
   ]
  }
 ],
 "metadata": {
  "kernelspec": {
   "display_name": "Python 3 (ipykernel)",
   "language": "python",
   "name": "python3"
  },
  "language_info": {
   "codemirror_mode": {
    "name": "ipython",
    "version": 3
   },
   "file_extension": ".py",
   "mimetype": "text/x-python",
   "name": "python",
   "nbconvert_exporter": "python",
   "pygments_lexer": "ipython3",
   "version": "3.7.8"
  }
 },
 "nbformat": 4,
 "nbformat_minor": 5
}
