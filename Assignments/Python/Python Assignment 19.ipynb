{
 "cells": [
  {
   "cell_type": "markdown",
   "id": "43ab4700",
   "metadata": {},
   "source": [
    "#### 1. Make a class called Thing with no contents and print it. Then, create an object called example from this class and also print it. Are the printed values the same or different?"
   ]
  },
  {
   "cell_type": "code",
   "execution_count": 1,
   "id": "036f7d93",
   "metadata": {},
   "outputs": [],
   "source": [
    "class thing:\n",
    "    pass"
   ]
  },
  {
   "cell_type": "code",
   "execution_count": 2,
   "id": "49c93d09",
   "metadata": {},
   "outputs": [
    {
     "data": {
      "text/plain": [
       "__main__.thing"
      ]
     },
     "execution_count": 2,
     "metadata": {},
     "output_type": "execute_result"
    }
   ],
   "source": [
    "thing"
   ]
  },
  {
   "cell_type": "code",
   "execution_count": 3,
   "id": "1585abd2",
   "metadata": {},
   "outputs": [
    {
     "name": "stdout",
     "output_type": "stream",
     "text": [
      "<class '__main__.thing'>\n"
     ]
    }
   ],
   "source": [
    "print(thing)"
   ]
  },
  {
   "cell_type": "code",
   "execution_count": 5,
   "id": "56f114a7",
   "metadata": {},
   "outputs": [
    {
     "data": {
      "text/plain": [
       "<__main__.thing at 0x1476ec85048>"
      ]
     },
     "execution_count": 5,
     "metadata": {},
     "output_type": "execute_result"
    }
   ],
   "source": [
    "example = thing()\n",
    "example"
   ]
  },
  {
   "cell_type": "code",
   "execution_count": 6,
   "id": "84ebc9d1",
   "metadata": {},
   "outputs": [
    {
     "name": "stdout",
     "output_type": "stream",
     "text": [
      "<__main__.thing object at 0x000001476EC85048>\n"
     ]
    }
   ],
   "source": [
    "print(example)"
   ]
  },
  {
   "cell_type": "markdown",
   "id": "7f28cec0",
   "metadata": {},
   "source": [
    "#### 2. Create a new class called Thing2 and add the value 'abc' to the letters class attribute. Letters should be printed."
   ]
  },
  {
   "cell_type": "code",
   "execution_count": 7,
   "id": "84360111",
   "metadata": {},
   "outputs": [
    {
     "data": {
      "text/plain": [
       "'abc'"
      ]
     },
     "execution_count": 7,
     "metadata": {},
     "output_type": "execute_result"
    }
   ],
   "source": [
    "class thing2:\n",
    "    letters = 'abc'\n",
    "    \n",
    "thing2.letters"
   ]
  },
  {
   "cell_type": "markdown",
   "id": "facc07a1",
   "metadata": {},
   "source": [
    "#### 3. Make yet another class called, of course, Thing3. This time, assign the value 'xyz' to an instance (object) attribute called letters. Print letters. Do you need to make an object from the class to do this?"
   ]
  },
  {
   "cell_type": "code",
   "execution_count": 26,
   "id": "f32aa7a8",
   "metadata": {},
   "outputs": [
    {
     "name": "stdout",
     "output_type": "stream",
     "text": [
      "xyz\n"
     ]
    }
   ],
   "source": [
    "class Thing3:\n",
    "    def __init__(self,letter):\n",
    "        self.letter = letter\n",
    "    def letters(self):\n",
    "        print(self.letter)\n",
    "Thing3('xyz').letters()    "
   ]
  },
  {
   "cell_type": "markdown",
   "id": "102288d3",
   "metadata": {},
   "source": [
    "#### 4. Create an Element class with the instance attributes name, symbol, and number. Create a class object with the values 'Hydrogen,' 'H,' and 1."
   ]
  },
  {
   "cell_type": "code",
   "execution_count": 41,
   "id": "c58d09cf",
   "metadata": {},
   "outputs": [],
   "source": [
    "class Element:\n",
    "        def __init__(self, name, symbol, number):\n",
    "            self.name = name\n",
    "            self.symbol = symbol\n",
    "            self.number = number"
   ]
  },
  {
   "cell_type": "code",
   "execution_count": 42,
   "id": "73c6a3ef",
   "metadata": {},
   "outputs": [
    {
     "data": {
      "text/plain": [
       "<__main__.Element at 0x1476ed84e48>"
      ]
     },
     "execution_count": 42,
     "metadata": {},
     "output_type": "execute_result"
    }
   ],
   "source": [
    "Element('Hydrogen','H',1)"
   ]
  },
  {
   "cell_type": "markdown",
   "id": "0733a09b",
   "metadata": {},
   "source": [
    "#### 5. Make a dictionary with these keys and values: 'name': 'Hydrogen', symbol': 'H', 'number': 1. Then, create an object called hydrogen from class Element using this dictionary."
   ]
  },
  {
   "cell_type": "code",
   "execution_count": 43,
   "id": "b3ba359f",
   "metadata": {},
   "outputs": [],
   "source": [
    "dictn = {'name': 'Hydrogen', 'symbol': 'H', 'number': 1}"
   ]
  },
  {
   "cell_type": "code",
   "execution_count": 46,
   "id": "de9d6ef7",
   "metadata": {},
   "outputs": [],
   "source": [
    "hydrogen = Element(dictn['name'], dictn['symbol'], dictn['number'])"
   ]
  },
  {
   "cell_type": "code",
   "execution_count": 47,
   "id": "c0ab9c37",
   "metadata": {},
   "outputs": [
    {
     "data": {
      "text/plain": [
       "'Hydrogen'"
      ]
     },
     "execution_count": 47,
     "metadata": {},
     "output_type": "execute_result"
    }
   ],
   "source": [
    "hydrogen.name"
   ]
  },
  {
   "cell_type": "code",
   "execution_count": 48,
   "id": "b425ee79",
   "metadata": {},
   "outputs": [
    {
     "data": {
      "text/plain": [
       "1"
      ]
     },
     "execution_count": 48,
     "metadata": {},
     "output_type": "execute_result"
    }
   ],
   "source": [
    "hydrogen.number"
   ]
  },
  {
   "cell_type": "markdown",
   "id": "c945a798",
   "metadata": {},
   "source": [
    "#### 6. For the Element class, define a method called dump() that prints the values of the object’s attributes (name, symbol, and number). Create the hydrogen object from this new definition and use dump() to print its attributes."
   ]
  },
  {
   "cell_type": "code",
   "execution_count": 50,
   "id": "7bea5041",
   "metadata": {},
   "outputs": [],
   "source": [
    "class Element:\n",
    "    def __init__(self, name, symbol, number):\n",
    "        self.name = name\n",
    "        self.symbol = symbol\n",
    "        self.number = number\n",
    "    def dump(self):\n",
    "        print(self.name, self.symbol, self.number)"
   ]
  },
  {
   "cell_type": "code",
   "execution_count": 52,
   "id": "1214423f",
   "metadata": {},
   "outputs": [
    {
     "name": "stdout",
     "output_type": "stream",
     "text": [
      "Hydrogen H 1\n"
     ]
    }
   ],
   "source": [
    "hydrogen = Element('Hydrogen', 'H', 1)\n",
    "hydrogen.dump()"
   ]
  },
  {
   "cell_type": "markdown",
   "id": "32fba5be",
   "metadata": {},
   "source": [
    "#### 7. Call print(hydrogen). In the definition of Element, change the name of method dump to __str__, create a new hydrogen object, and call print(hydrogen) again."
   ]
  },
  {
   "cell_type": "code",
   "execution_count": 64,
   "id": "eab6f088",
   "metadata": {},
   "outputs": [],
   "source": [
    "class Element:\n",
    "    def __init__(self, name, symbol, number):\n",
    "        self.name = name\n",
    "        self.symbol = symbol\n",
    "        self.number = number\n",
    "    def __str__(self):\n",
    "        return ('name=%s, symbol=%s, number=%s'%(self.name, self.symbol, self.number))"
   ]
  },
  {
   "cell_type": "code",
   "execution_count": 65,
   "id": "0232dff3",
   "metadata": {},
   "outputs": [
    {
     "name": "stdout",
     "output_type": "stream",
     "text": [
      "name=Hydrogen, symbol=H, number=1\n"
     ]
    }
   ],
   "source": [
    "hydrogen = Element('Hydrogen', 'H', 1)\n",
    "print(hydrogen)"
   ]
  },
  {
   "cell_type": "markdown",
   "id": "6fa8453e",
   "metadata": {},
   "source": [
    "#### 8. Modify Element to make the attributes name, symbol, and number private. Define a getter property for each to return its value."
   ]
  },
  {
   "cell_type": "code",
   "execution_count": 71,
   "id": "333af801",
   "metadata": {},
   "outputs": [],
   "source": [
    "class Element:\n",
    "        def __init__(self, name, symbol, number):\n",
    "            self.__name = name\n",
    "            self.__symbol = symbol\n",
    "            self.__number = number\n",
    "        @property\n",
    "        def name(self):\n",
    "            return self.__name\n",
    "        @property\n",
    "        def symbol(self):\n",
    "            return self.__symbol\n",
    "        @property\n",
    "        def number(self):\n",
    "            return self.__number"
   ]
  },
  {
   "cell_type": "code",
   "execution_count": 72,
   "id": "07a48b67",
   "metadata": {},
   "outputs": [
    {
     "data": {
      "text/plain": [
       "'Hydrogen'"
      ]
     },
     "execution_count": 72,
     "metadata": {},
     "output_type": "execute_result"
    }
   ],
   "source": [
    "hydrogen = Element('Hydrogen', 'H', 1)\n",
    "hydrogen.name"
   ]
  },
  {
   "cell_type": "code",
   "execution_count": 73,
   "id": "47eba7b0",
   "metadata": {},
   "outputs": [
    {
     "data": {
      "text/plain": [
       "1"
      ]
     },
     "execution_count": 73,
     "metadata": {},
     "output_type": "execute_result"
    }
   ],
   "source": [
    "hydrogen.number"
   ]
  },
  {
   "cell_type": "markdown",
   "id": "a45bc113",
   "metadata": {},
   "source": [
    "#### 9. Define three classes: Bear, Rabbit, and Octothorpe. For each, define only one method: eats(). This should return 'berries' (Bear), 'clover' (Rabbit), or 'campers' (Octothorpe). Create one object from each and print what it eats."
   ]
  },
  {
   "cell_type": "code",
   "execution_count": 74,
   "id": "8d1aecf4",
   "metadata": {},
   "outputs": [],
   "source": [
    "class Bear:\n",
    "        def eats(self):\n",
    "            return 'berries'\n",
    "class Rabbit:\n",
    "     def eats(self):\n",
    "        return 'clover'\n",
    "class Octothorpe:\n",
    "     def eats(self):\n",
    "            return 'campers'"
   ]
  },
  {
   "cell_type": "code",
   "execution_count": 75,
   "id": "d3d6727f",
   "metadata": {},
   "outputs": [],
   "source": [
    "b = Bear()\n",
    "r = Rabbit()\n",
    "o = Octothorpe()"
   ]
  },
  {
   "cell_type": "code",
   "execution_count": 76,
   "id": "32aad08a",
   "metadata": {},
   "outputs": [
    {
     "name": "stdout",
     "output_type": "stream",
     "text": [
      "berries\n"
     ]
    }
   ],
   "source": [
    "print(b.eats())"
   ]
  },
  {
   "cell_type": "code",
   "execution_count": 77,
   "id": "5092e5f7",
   "metadata": {},
   "outputs": [
    {
     "name": "stdout",
     "output_type": "stream",
     "text": [
      "clover\n"
     ]
    }
   ],
   "source": [
    "print(r.eats())"
   ]
  },
  {
   "cell_type": "code",
   "execution_count": 78,
   "id": "a094ca77",
   "metadata": {},
   "outputs": [
    {
     "name": "stdout",
     "output_type": "stream",
     "text": [
      "campers\n"
     ]
    }
   ],
   "source": [
    "print(o.eats())"
   ]
  },
  {
   "cell_type": "markdown",
   "id": "7ecf202c",
   "metadata": {},
   "source": [
    "#### 10. Define these classes: Laser, Claw, and SmartPhone. Each has only one method: does(). This returns 'disintegrate' (Laser), 'crush' (Claw), or 'ring' (SmartPhone). Then, define the class Robot that has one instance (object) of each of these. Define a does() method for the Robot that prints what its component objects do."
   ]
  },
  {
   "cell_type": "code",
   "execution_count": 79,
   "id": "c2e24b85",
   "metadata": {},
   "outputs": [],
   "source": [
    "class Laser:\n",
    "    def does(self):\n",
    "             return 'disintegrate'\n",
    "class Claw:\n",
    "     def does(self):\n",
    "            return 'crush'\n",
    "\n",
    "class SmartPhone:\n",
    "     def does(self):\n",
    "            return 'ring'"
   ]
  },
  {
   "cell_type": "code",
   "execution_count": 81,
   "id": "44614ef1",
   "metadata": {},
   "outputs": [],
   "source": [
    "class Robot:\n",
    "    def __init__(self):\n",
    "        self.laser = Laser()\n",
    "        self.claw = Claw()\n",
    "        self.smartphone = SmartPhone()\n",
    "    def does(self):\n",
    "        return ('Laser is %s, Claw is %s, SmartPhone is %s' % (self.laser.does(),self.claw.does(),self.smartphone.does()))"
   ]
  },
  {
   "cell_type": "code",
   "execution_count": 82,
   "id": "52c68e5b",
   "metadata": {},
   "outputs": [
    {
     "name": "stdout",
     "output_type": "stream",
     "text": [
      "Laser is disintegrate, Claw is crush, SmartPhone is ring\n"
     ]
    }
   ],
   "source": [
    "robbie = Robot()\n",
    "print(robbie.does())"
   ]
  }
 ],
 "metadata": {
  "kernelspec": {
   "display_name": "Python 3 (ipykernel)",
   "language": "python",
   "name": "python3"
  },
  "language_info": {
   "codemirror_mode": {
    "name": "ipython",
    "version": 3
   },
   "file_extension": ".py",
   "mimetype": "text/x-python",
   "name": "python",
   "nbconvert_exporter": "python",
   "pygments_lexer": "ipython3",
   "version": "3.7.8"
  }
 },
 "nbformat": 4,
 "nbformat_minor": 5
}
