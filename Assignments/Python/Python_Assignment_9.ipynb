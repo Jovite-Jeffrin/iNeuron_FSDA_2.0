{
  "nbformat": 4,
  "nbformat_minor": 0,
  "metadata": {
    "colab": {
      "provenance": []
    },
    "kernelspec": {
      "name": "python3",
      "display_name": "Python 3"
    },
    "language_info": {
      "name": "python"
    }
  },
  "cells": [
    {
      "cell_type": "markdown",
      "source": [
        "**1. To what does a relative path refer?**"
      ],
      "metadata": {
        "id": "SXm1C7akgMh4"
      }
    },
    {
      "cell_type": "markdown",
      "source": [
        "Relative path refer to the current working directory we are working at."
      ],
      "metadata": {
        "id": "17cfjX_4gMkq"
      }
    },
    {
      "cell_type": "markdown",
      "source": [
        "**2. What does an absolute path start with your operating system?**"
      ],
      "metadata": {
        "id": "CeXB15oSgMnP"
      }
    },
    {
      "cell_type": "markdown",
      "source": [
        "Absolute path always refers to the root folder. Such as C:/"
      ],
      "metadata": {
        "id": "b9NS5KLIgMpq"
      }
    },
    {
      "cell_type": "markdown",
      "source": [
        "**3. What do the functions os.getcwd() and os.chdir() do?**"
      ],
      "metadata": {
        "id": "MnR7W2IVgMrz"
      }
    },
    {
      "cell_type": "markdown",
      "source": [
        "os.getcwd(): returns the current working directory we are working at\n",
        "os.chdir(): changes the current working directory we are working at"
      ],
      "metadata": {
        "id": "UeAOgZaqgMt-"
      }
    },
    {
      "cell_type": "markdown",
      "source": [
        "**4. What are the . and .. folders?**"
      ],
      "metadata": {
        "id": "C1N11vVAgMwY"
      }
    },
    {
      "cell_type": "markdown",
      "source": [
        "The .folder refers to the current folder and ..folder refers to the parent folder."
      ],
      "metadata": {
        "id": "jk7YwV-lgMy3"
      }
    },
    {
      "cell_type": "markdown",
      "source": [
        "**5. In C:\\bacon\\eggs\\spam.txt, which part is the dir name, and which part is the base name?**"
      ],
      "metadata": {
        "id": "LzA85r3TgM1T"
      }
    },
    {
      "cell_type": "markdown",
      "source": [
        "The path C:\\bacon\\eggs\\ is the directory name and spam.txt is the base name."
      ],
      "metadata": {
        "id": "6ZRAaZJ7gM3o"
      }
    },
    {
      "cell_type": "markdown",
      "source": [
        "**6. What are the three “mode” arguments that can be passed to the open() function?**"
      ],
      "metadata": {
        "id": "iLls57tHgM56"
      }
    },
    {
      "cell_type": "markdown",
      "source": [
        "The three argument modes are:\n",
        "r - read\n",
        "w - write\n",
        "a - append"
      ],
      "metadata": {
        "id": "f0HbMthpgM8R"
      }
    },
    {
      "cell_type": "markdown",
      "source": [
        "**7. What happens if an existing file is opened in write mode?**"
      ],
      "metadata": {
        "id": "iyDMhVObgM-0"
      }
    },
    {
      "cell_type": "markdown",
      "source": [
        "The file is overwritten with the new and the existing file get erased."
      ],
      "metadata": {
        "id": "ldTOiXRvgNCQ"
      }
    },
    {
      "cell_type": "markdown",
      "source": [
        "**8. How do you tell the difference between read() and readlines()?**"
      ],
      "metadata": {
        "id": "bFPBXSmMgudI"
      }
    },
    {
      "cell_type": "markdown",
      "source": [
        "The read() returns the whole file as a single string value wheras readlines() returns list of strings."
      ],
      "metadata": {
        "id": "2F52XwMdguRV"
      }
    },
    {
      "cell_type": "markdown",
      "source": [
        "**9. What data structure does a shelf value resemble?**"
      ],
      "metadata": {
        "id": "cauM-CLCgt4y"
      }
    },
    {
      "cell_type": "markdown",
      "source": [
        "The dictionary will resemble the shelf value. It has keys() and values() along with keys() and values() works in the same way as like the dictionary."
      ],
      "metadata": {
        "id": "fccTl-qfgtg6"
      }
    }
  ]
}