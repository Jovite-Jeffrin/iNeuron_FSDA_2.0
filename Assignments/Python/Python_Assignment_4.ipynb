{
 "cells": [
  {
   "cell_type": "markdown",
   "id": "93deaade",
   "metadata": {},
   "source": [
    "### 1. What exactly is []?\n",
    "\n",
    "      It is an empty list in python."
   ]
  },
  {
   "cell_type": "markdown",
   "id": "14b866b8",
   "metadata": {},
   "source": [
    "###  2. In a list of values stored in a variable called spam, how would you assign the value 'hello' as the third value? (Assume [2, 4, 6, 8, 10] are in spam.)"
   ]
  },
  {
   "cell_type": "code",
   "execution_count": 2,
   "id": "78f5a259",
   "metadata": {},
   "outputs": [
    {
     "data": {
      "text/plain": [
       "[2, 4, 6, 'hello', 10]"
      ]
     },
     "execution_count": 2,
     "metadata": {},
     "output_type": "execute_result"
    }
   ],
   "source": [
    "spam = [2,4,6,8,10]\n",
    "\n",
    "spam[3] = \"hello\"\n",
    "\n",
    "spam"
   ]
  },
  {
   "cell_type": "markdown",
   "id": "7484edd0",
   "metadata": {},
   "source": [
    "### 3. What is the value of spam[int(int('3' * 2) / 11)]? "
   ]
  },
  {
   "cell_type": "code",
   "execution_count": 3,
   "id": "3362b8be",
   "metadata": {},
   "outputs": [
    {
     "data": {
      "text/plain": [
       "'hello'"
      ]
     },
     "execution_count": 3,
     "metadata": {},
     "output_type": "execute_result"
    }
   ],
   "source": [
    "spam[int(int('3' * 2) / 11)]"
   ]
  },
  {
   "cell_type": "markdown",
   "id": "6b3e6656",
   "metadata": {},
   "source": [
    "### 4. What is the value of spam[-1]?"
   ]
  },
  {
   "cell_type": "code",
   "execution_count": 4,
   "id": "74066df9",
   "metadata": {},
   "outputs": [
    {
     "data": {
      "text/plain": [
       "10"
      ]
     },
     "execution_count": 4,
     "metadata": {},
     "output_type": "execute_result"
    }
   ],
   "source": [
    "spam[-1]"
   ]
  },
  {
   "cell_type": "markdown",
   "id": "1851e5f4",
   "metadata": {},
   "source": [
    "### 5. What is the value of spam[:2]?"
   ]
  },
  {
   "cell_type": "code",
   "execution_count": 5,
   "id": "a63dd523",
   "metadata": {},
   "outputs": [
    {
     "data": {
      "text/plain": [
       "[2, 4]"
      ]
     },
     "execution_count": 5,
     "metadata": {},
     "output_type": "execute_result"
    }
   ],
   "source": [
    "spam[:2]"
   ]
  },
  {
   "cell_type": "markdown",
   "id": "304daee8",
   "metadata": {},
   "source": [
    "### Let's pretend bacon has the list [3.14, 'cat', 11,'cat', True] for the next three questions.\n",
    "\n",
    "### 6. What is the value of bacon.index('cat')?"
   ]
  },
  {
   "cell_type": "code",
   "execution_count": 6,
   "id": "744e2a04",
   "metadata": {},
   "outputs": [],
   "source": [
    "list1 = [3.14, 'cat', 11,'cat', True]"
   ]
  },
  {
   "cell_type": "code",
   "execution_count": 7,
   "id": "ad00d346",
   "metadata": {},
   "outputs": [],
   "source": [
    "bacon = list1"
   ]
  },
  {
   "cell_type": "code",
   "execution_count": 8,
   "id": "f42ec8f4",
   "metadata": {},
   "outputs": [
    {
     "data": {
      "text/plain": [
       "1"
      ]
     },
     "execution_count": 8,
     "metadata": {},
     "output_type": "execute_result"
    }
   ],
   "source": [
    "bacon.index('cat')"
   ]
  },
  {
   "cell_type": "markdown",
   "id": "515a643c",
   "metadata": {},
   "source": [
    "### 7. How does bacon.append(99) change the look of the list value in bacon?"
   ]
  },
  {
   "cell_type": "code",
   "execution_count": 14,
   "id": "f2d255c3",
   "metadata": {},
   "outputs": [],
   "source": [
    "bacon.append(99)"
   ]
  },
  {
   "cell_type": "code",
   "execution_count": 15,
   "id": "dbcd8fd7",
   "metadata": {},
   "outputs": [
    {
     "data": {
      "text/plain": [
       "[3.14, 'cat', 11, 'cat', True, 99]"
      ]
     },
     "execution_count": 15,
     "metadata": {},
     "output_type": "execute_result"
    }
   ],
   "source": [
    "bacon"
   ]
  },
  {
   "cell_type": "markdown",
   "id": "e76bd549",
   "metadata": {},
   "source": [
    "### 8. How does bacon.remove('cat') change the look of the list in bacon?"
   ]
  },
  {
   "cell_type": "code",
   "execution_count": 16,
   "id": "f14603df",
   "metadata": {},
   "outputs": [],
   "source": [
    "bacon.remove('cat')"
   ]
  },
  {
   "cell_type": "code",
   "execution_count": 17,
   "id": "fb9091e6",
   "metadata": {},
   "outputs": [
    {
     "data": {
      "text/plain": [
       "[3.14, 11, 'cat', True, 99]"
      ]
     },
     "execution_count": 17,
     "metadata": {},
     "output_type": "execute_result"
    }
   ],
   "source": [
    "bacon # it removed the first occurance of the cat"
   ]
  },
  {
   "cell_type": "markdown",
   "id": "5896de00",
   "metadata": {},
   "source": [
    "### 9. What are the list concatenation and list replication operators?"
   ]
  },
  {
   "cell_type": "code",
   "execution_count": 18,
   "id": "efb8de13",
   "metadata": {},
   "outputs": [
    {
     "data": {
      "text/plain": [
       "[10, 11, 13, 14, 20, 90, 42]"
      ]
     },
     "execution_count": 18,
     "metadata": {},
     "output_type": "execute_result"
    }
   ],
   "source": [
    "# concatenation\n",
    "\n",
    "list1 = [10, 11, 13, 14] \n",
    "list2 = [20, 90, 42] \n",
    "\n",
    "res = list1 + list2 \n",
    "\n",
    "res"
   ]
  },
  {
   "cell_type": "code",
   "execution_count": 19,
   "id": "abf0491c",
   "metadata": {},
   "outputs": [
    {
     "data": {
      "text/plain": [
       "[10, 11, 13, 14, 20, 90, 42]"
      ]
     },
     "execution_count": 19,
     "metadata": {},
     "output_type": "execute_result"
    }
   ],
   "source": [
    "# using for loop\n",
    "\n",
    "list1 = [10, 11, 13, 14] \n",
    "list2 = [20, 90, 42] \n",
    "\n",
    "for i in list2:\n",
    "    list1.append(i)\n",
    "    \n",
    "list1"
   ]
  },
  {
   "cell_type": "code",
   "execution_count": 20,
   "id": "d31b6300",
   "metadata": {},
   "outputs": [
    {
     "data": {
      "text/plain": [
       "[10, 11, 13, 14, 20, 90, 42]"
      ]
     },
     "execution_count": 20,
     "metadata": {},
     "output_type": "execute_result"
    }
   ],
   "source": [
    "# using extend method\n",
    "\n",
    "list1 = [10, 11, 13, 14] \n",
    "list2 = [20, 90, 42] \n",
    "\n",
    "list1.extend(list2)\n",
    "\n",
    "list1"
   ]
  },
  {
   "cell_type": "code",
   "execution_count": 25,
   "id": "894adcb4",
   "metadata": {},
   "outputs": [
    {
     "data": {
      "text/plain": [
       "[10, 11, 13, 14, 10, 11, 13, 14, 10, 11, 13, 14]"
      ]
     },
     "execution_count": 25,
     "metadata": {},
     "output_type": "execute_result"
    }
   ],
   "source": [
    "# replication operator\n",
    "\n",
    "list1 = [10, 11, 13, 14] \n",
    "list2 = list1*3\n",
    "\n",
    "list2"
   ]
  },
  {
   "cell_type": "markdown",
   "id": "7dfc59d2",
   "metadata": {},
   "source": [
    "### 10. What is difference between the list methods append() and insert()?"
   ]
  },
  {
   "cell_type": "code",
   "execution_count": 27,
   "id": "88b3a8c3",
   "metadata": {},
   "outputs": [
    {
     "data": {
      "text/plain": [
       "[10, 11, 12, 13, 14]"
      ]
     },
     "execution_count": 27,
     "metadata": {},
     "output_type": "execute_result"
    }
   ],
   "source": [
    "# insert is used to insert the element in the desired index\n",
    "\n",
    "list1 = [10, 11, 13, 14] \n",
    "\n",
    "list1.insert(2,12)\n",
    "\n",
    "list1"
   ]
  },
  {
   "cell_type": "code",
   "execution_count": 28,
   "id": "40f0ae38",
   "metadata": {},
   "outputs": [
    {
     "data": {
      "text/plain": [
       "[10, 11, 13, 14, 15]"
      ]
     },
     "execution_count": 28,
     "metadata": {},
     "output_type": "execute_result"
    }
   ],
   "source": [
    "# append will add the value at the end of the list\n",
    "\n",
    "list1 = [10, 11, 13, 14] \n",
    "\n",
    "list1.append(15)\n",
    "\n",
    "list1"
   ]
  },
  {
   "cell_type": "markdown",
   "id": "7e009ade",
   "metadata": {},
   "source": [
    "### 11. What are the two methods for removing items from a list?"
   ]
  },
  {
   "cell_type": "code",
   "execution_count": 30,
   "id": "734d2152",
   "metadata": {},
   "outputs": [
    {
     "data": {
      "text/plain": [
       "[10, 11, 13, 14]"
      ]
     },
     "execution_count": 30,
     "metadata": {},
     "output_type": "execute_result"
    }
   ],
   "source": [
    "# using remove method\n",
    "\n",
    "list1 = [10, 11, 12, 13, 14] \n",
    "\n",
    "list1.remove(12) # entering the value to be deleted\n",
    "\n",
    "list1"
   ]
  },
  {
   "cell_type": "code",
   "execution_count": 34,
   "id": "0df46c5d",
   "metadata": {},
   "outputs": [
    {
     "data": {
      "text/plain": [
       "[10, 11, 13, 14]"
      ]
     },
     "execution_count": 34,
     "metadata": {},
     "output_type": "execute_result"
    }
   ],
   "source": [
    "# using pop method\n",
    "\n",
    "list1 = [10, 11, 12, 13, 14] \n",
    "\n",
    "list1.pop(2) # in which index to be deleted\n",
    "\n",
    "list1"
   ]
  },
  {
   "cell_type": "markdown",
   "id": "aad65c98",
   "metadata": {},
   "source": [
    "### 12. Describe how list values and string values are identical.\n",
    "\n",
    "    Both are store values in sequence. List are used to store any datatypes. Whereas string are used to store only the characters with in single or double quoutes. List are mutable and strings are immutable. The length can be calculated by len() method for both. Both accepts concatenation. "
   ]
  },
  {
   "cell_type": "markdown",
   "id": "e29cb696",
   "metadata": {},
   "source": [
    "### 13. What's the difference between tuples and lists?\n",
    "\n",
    "    Tuples are immutable and lists are mutable. Lists can be use the operations like insertion and deletion. Whereas tupples is used only for accessing data. Lists declare within square brackets [] and tuples uses ()"
   ]
  },
  {
   "cell_type": "markdown",
   "id": "ac20c74e",
   "metadata": {},
   "source": [
    "### 14. How do you type a tuple value that only contains the integer 42?"
   ]
  },
  {
   "cell_type": "code",
   "execution_count": 38,
   "id": "6abb6845",
   "metadata": {},
   "outputs": [
    {
     "data": {
      "text/plain": [
       "(42,)"
      ]
     },
     "execution_count": 38,
     "metadata": {},
     "output_type": "execute_result"
    }
   ],
   "source": [
    "tup = (42,)\n",
    "tup"
   ]
  },
  {
   "cell_type": "code",
   "execution_count": 39,
   "id": "be9f3568",
   "metadata": {},
   "outputs": [
    {
     "data": {
      "text/plain": [
       "tuple"
      ]
     },
     "execution_count": 39,
     "metadata": {},
     "output_type": "execute_result"
    }
   ],
   "source": [
    "type(tup)"
   ]
  },
  {
   "cell_type": "markdown",
   "id": "fccd7942",
   "metadata": {},
   "source": [
    "### 15. How do you get a list value's tuple form? How do you get a tuple value's list form?"
   ]
  },
  {
   "cell_type": "code",
   "execution_count": 40,
   "id": "1db25e65",
   "metadata": {},
   "outputs": [
    {
     "name": "stdout",
     "output_type": "stream",
     "text": [
      "(10, 11, 12, 13, 14)\n"
     ]
    }
   ],
   "source": [
    "list1 = [10, 11, 12, 13, 14]\n",
    "\n",
    "print(tuple(list1))"
   ]
  },
  {
   "cell_type": "code",
   "execution_count": 41,
   "id": "d9cad5c4",
   "metadata": {},
   "outputs": [
    {
     "name": "stdout",
     "output_type": "stream",
     "text": [
      "[10, 11, 12, 13, 14]\n"
     ]
    }
   ],
   "source": [
    "list1 = (10, 11, 12, 13, 14)\n",
    "\n",
    "print(list(list1))"
   ]
  },
  {
   "cell_type": "markdown",
   "id": "53c3e9f4",
   "metadata": {},
   "source": [
    "### 16. Variables that \"contain\" list values are not necessarily lists themselves. Instead, what do they contain?\n",
    "    \n",
    "    It will contains the reference to the list."
   ]
  },
  {
   "cell_type": "markdown",
   "id": "f6392299",
   "metadata": {},
   "source": [
    "### 17. How do you distinguish between copy.copy() and copy.deepcopy()?\n",
    "    \n",
    "    copy.copy() performs shallow copy of the list and copy.deepcopy() performs deep copy of the list i.e copy everything. "
   ]
  }
 ],
 "metadata": {
  "kernelspec": {
   "display_name": "Python 3 (ipykernel)",
   "language": "python",
   "name": "python3"
  },
  "language_info": {
   "codemirror_mode": {
    "name": "ipython",
    "version": 3
   },
   "file_extension": ".py",
   "mimetype": "text/x-python",
   "name": "python",
   "nbconvert_exporter": "python",
   "pygments_lexer": "ipython3",
   "version": "3.7.8"
  }
 },
 "nbformat": 4,
 "nbformat_minor": 5
}
