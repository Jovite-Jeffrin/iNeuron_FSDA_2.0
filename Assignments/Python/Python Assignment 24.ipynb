{
 "cells": [
  {
   "cell_type": "markdown",
   "id": "dbb28a04",
   "metadata": {},
   "source": [
    "#### 1. What is the relationship between def statements and lambda expressions ?"
   ]
  },
  {
   "cell_type": "markdown",
   "id": "ed5c86d2",
   "metadata": {},
   "source": [
    "def is the starting of the function header. A function name to uniquely identify the function. Function naming follows the same rules of writing identifiers in Python.\n",
    "\n",
    "lambdas are one-line methods without a name.They work practically the same as any other method in Python but it differs from normal Python methods because they can have only one expression, can't contain any statements and their return type is a function object"
   ]
  },
  {
   "cell_type": "markdown",
   "id": "f32ebfa6",
   "metadata": {},
   "source": [
    "#### 2. What is the benefit of lambda?"
   ]
  },
  {
   "cell_type": "markdown",
   "id": "6905bc28",
   "metadata": {},
   "source": [
    "Lambda functions are inline functions and thus execute comparatively faster and Fewer Lines of Code. Many times lambda functions make code much more readable by avoiding the logical jumps caused by function calls"
   ]
  },
  {
   "cell_type": "markdown",
   "id": "c4227c42",
   "metadata": {},
   "source": [
    "#### 3. Compare and contrast map, filter, and reduce."
   ]
  },
  {
   "cell_type": "markdown",
   "id": "53eab1dc",
   "metadata": {},
   "source": [
    "Map: The map function applies a given function to each element of an iterable and returns an iterable containing the results. Syntax : map(function, iterable(s))\n",
    "\n",
    "Filter: The filter function filters elements from an iterable based on a given function and returns an iterable containing the elements that satisfy the condition. Syntax : filter(function, iterable(s))\n",
    "\n",
    "Reduce: The reduce function continuously applies a binary function to the elements of an iterable, accumulating a single result. Syntax : reduce(function, sequence[, initial])"
   ]
  },
  {
   "cell_type": "markdown",
   "id": "823ce895",
   "metadata": {},
   "source": [
    "#### 4. What are function annotations, and how are they used?"
   ]
  },
  {
   "cell_type": "markdown",
   "id": "1238923a",
   "metadata": {},
   "source": [
    "Function annotations are a way to attach metadata to the parameters and return values of functions. These annotations provide additional information about the types or purposes of the function's arguments and return values. Function annotations are primarily used for documentation and can be accessed using the __annotations__ attribute of a function. "
   ]
  },
  {
   "cell_type": "code",
   "execution_count": 1,
   "id": "b5d4d00d",
   "metadata": {},
   "outputs": [
    {
     "name": "stdout",
     "output_type": "stream",
     "text": [
      "{'a': <class 'int'>, 'b': <class 'int'>, 'return': <class 'int'>}\n"
     ]
    }
   ],
   "source": [
    "def add(a: int, b: int) -> int:\n",
    "    return a + b\n",
    "\n",
    "print(add.__annotations__)"
   ]
  },
  {
   "cell_type": "markdown",
   "id": "4e52ef76",
   "metadata": {},
   "source": [
    "#### 5. What are recursive functions, and how are they used?"
   ]
  },
  {
   "cell_type": "markdown",
   "id": "5dffaf86",
   "metadata": {},
   "source": [
    "Recursive functions are a type of function in computer programming that calls itself in order to solve a problem. These functions are used when a problem can be broken down into smaller, similar subproblems"
   ]
  },
  {
   "cell_type": "code",
   "execution_count": 3,
   "id": "f0723921",
   "metadata": {},
   "outputs": [
    {
     "data": {
      "text/plain": [
       "120"
      ]
     },
     "execution_count": 3,
     "metadata": {},
     "output_type": "execute_result"
    }
   ],
   "source": [
    "def factorial(n):\n",
    "    if n == 0 or n == 1:\n",
    "        return 1\n",
    "    else:\n",
    "        return n * factorial(n - 1)\n",
    "    \n",
    "factorial(5)"
   ]
  },
  {
   "cell_type": "markdown",
   "id": "edd8e4a2",
   "metadata": {},
   "source": [
    "#### 6. What are some general design guidelines for coding functions?"
   ]
  },
  {
   "cell_type": "markdown",
   "id": "2afc9d8e",
   "metadata": {},
   "source": [
    "Consistent Style and Formatting: A consistent coding style and formatting convention throughout the codebase. This includes indentation, naming conventions, and the placement of braces and comments.\n",
    "\n",
    "Comments and Documentation: Including comments and documentation to explain the purpose of the function, its parameters, and its return values. Good documentation can make it easier for others to understand and use the functions.\n",
    "\n",
    "Error Handling: Handle errors and exceptions gracefully within the functions. Consider using try-except blocks or raising custom exceptions when appropriate. Document error conditions and expected behavior.\n",
    "\n",
    "Testing: Write unit tests for your functions to ensure they work correctly under different conditions. Automated tests can catch regressions and verify that a functions meet their specifications."
   ]
  },
  {
   "cell_type": "markdown",
   "id": "7fc2c988",
   "metadata": {},
   "source": [
    "#### 7. Name three or more ways that functions can communicate results to a caller."
   ]
  },
  {
   "cell_type": "markdown",
   "id": "c747319a",
   "metadata": {},
   "source": [
    "Return Values: Functions often communicate results by returning a value. This value can be of any data type, such as numbers, strings, lists, or even more complex data structures. The caller can capture the returned value and use it for further processing or as needed.\n",
    "\n",
    "Exceptions (Error Handling): Functions can communicate results or errors to the caller by raising exceptions when something unexpected or erroneous occurs during execution. The caller can handle these exceptions to manage errors or exceptions gracefully.\n",
    "\n",
    "Yield: yield keyword is used in the context of generators to create a special type of function called a generator function. Generator functions allow us to generate a sequence of values lazily, one at a time, without generating all the values at once and storing them in memory."
   ]
  }
 ],
 "metadata": {
  "kernelspec": {
   "display_name": "Python 3 (ipykernel)",
   "language": "python",
   "name": "python3"
  },
  "language_info": {
   "codemirror_mode": {
    "name": "ipython",
    "version": 3
   },
   "file_extension": ".py",
   "mimetype": "text/x-python",
   "name": "python",
   "nbconvert_exporter": "python",
   "pygments_lexer": "ipython3",
   "version": "3.7.8"
  }
 },
 "nbformat": 4,
 "nbformat_minor": 5
}
