{
 "cells": [
  {
   "cell_type": "markdown",
   "id": "6e674b1c",
   "metadata": {},
   "source": [
    "#### 1. What does RGBA stand for?"
   ]
  },
  {
   "cell_type": "markdown",
   "id": "79c5097f",
   "metadata": {},
   "source": [
    "Red (R): It represents the amount of red in the color. It specifies the intensity of the red color, typically on a scale from 0 (no red) to 255 (full intensity).\n",
    "\n",
    "Green (G): It represents the amount of green in the color. It specifies the intensity of the green color, also typically on a scale from 0 to 255.\n",
    "\n",
    "Blue (B): It represents the amount of blue in the color. It specifies the intensity of the blue color, again on a scale from 0 to 255.\n",
    "\n",
    "Alpha (A): It represents the level of transparency or opacity of the color. It determines how much the color underneath the current color will show through. It is typically represented as a floating-point value between 0.0 (completely transparent) and 1.0 (completely opaque). An Alpha value of 1.0 means the color is fully opaque, while an Alpha value of 0.0 means it's fully transparent."
   ]
  },
  {
   "cell_type": "markdown",
   "id": "b5d0d513",
   "metadata": {},
   "source": [
    "#### 2. From the Pillow module, how do you get the RGBA value of any images?"
   ]
  },
  {
   "cell_type": "code",
   "execution_count": 5,
   "id": "a0ab8d4e",
   "metadata": {},
   "outputs": [
    {
     "data": {
      "text/plain": [
       "(0, 128, 0, 255)"
      ]
     },
     "execution_count": 5,
     "metadata": {},
     "output_type": "execute_result"
    }
   ],
   "source": [
    "from PIL import ImageColor\n",
    "ImageColor.getcolor('red', 'RGBA')\n",
    "ImageColor.getcolor('green', 'RGBA')"
   ]
  },
  {
   "cell_type": "markdown",
   "id": "faf1ede4",
   "metadata": {},
   "source": [
    "#### 3. What is a box tuple, and how does it work?\n",
    "A box tuple is a tuple value of four integers: the left edge x-coordinate, the top edge y-coordinate, the width, and the height, respectively"
   ]
  },
  {
   "cell_type": "code",
   "execution_count": 13,
   "id": "c606e1f1",
   "metadata": {},
   "outputs": [
    {
     "data": {
      "text/plain": [
       "<bound method Image.show of <PIL.Image.Image image mode=RGB size=200x200 at 0x187C43EDD08>>"
      ]
     },
     "execution_count": 13,
     "metadata": {},
     "output_type": "execute_result"
    }
   ],
   "source": [
    "from PIL import Image\n",
    "\n",
    "image = Image.open('image.jpg')\n",
    "\n",
    "box = (100, 200, 300, 400)\n",
    "\n",
    "cropped_image = image.crop(box)\n",
    "\n",
    "cropped_image.save('cropped_image.jpg')\n",
    "cropped_image.show"
   ]
  },
  {
   "cell_type": "markdown",
   "id": "da1109f0",
   "metadata": {},
   "source": [
    "#### 4. Use your image and load in notebook then, How can you find out the width and height of an Image object?\n"
   ]
  },
  {
   "cell_type": "code",
   "execution_count": 16,
   "id": "9e104681",
   "metadata": {},
   "outputs": [
    {
     "name": "stdout",
     "output_type": "stream",
     "text": [
      "Width: 1920px\n",
      "Height: 1200px\n"
     ]
    }
   ],
   "source": [
    "from PIL import Image\n",
    "\n",
    "image = Image.open('image.jpg')  \n",
    "width, height = image.size\n",
    "\n",
    "print(f'Width: {width}px')\n",
    "print(f'Height: {height}px')"
   ]
  },
  {
   "cell_type": "markdown",
   "id": "1ab2c130",
   "metadata": {},
   "source": [
    "#### 5. What method would you call to get Image object for a 100×100 image, excluding the lower-left quarter of it?\n"
   ]
  },
  {
   "cell_type": "code",
   "execution_count": 21,
   "id": "c296ed96",
   "metadata": {},
   "outputs": [
    {
     "data": {
      "text/plain": [
       "<bound method Image.show of <PIL.Image.Image image mode=RGB size=50x0 at 0x187C1DF7808>>"
      ]
     },
     "execution_count": 21,
     "metadata": {},
     "output_type": "execute_result"
    }
   ],
   "source": [
    "img = Image.open('image.jpg')\n",
    "new_img = img.crop((0,50,50,50))\n",
    "new_img.show"
   ]
  },
  {
   "cell_type": "markdown",
   "id": "534afe2e",
   "metadata": {},
   "source": [
    "#### 6. After making changes to an Image object, how could you save it as an image file?\n"
   ]
  },
  {
   "cell_type": "code",
   "execution_count": 25,
   "id": "690e7cbd",
   "metadata": {},
   "outputs": [],
   "source": [
    "from PIL import Image\n",
    "\n",
    "modified_image = Image.new('RGB', (100, 100), color='white')\n",
    "\n",
    "modified_image.save('output.jpg') "
   ]
  },
  {
   "cell_type": "markdown",
   "id": "1c647094",
   "metadata": {},
   "source": [
    "#### 7. What module contains Pillow’s shape-drawing code?\n",
    "The ImageDraw module contains code to draw on images"
   ]
  },
  {
   "cell_type": "markdown",
   "id": "fbc22444",
   "metadata": {},
   "source": [
    "#### 8. Image objects do not have drawing methods. What kind of object does? How do you get this kind of object?\n",
    "ImageDraw objects have shape-drawing methods such as point(), line(), or rectangle(). They are returned by passing the Image object to the ImageDraw.Draw() function."
   ]
  }
 ],
 "metadata": {
  "kernelspec": {
   "display_name": "Python 3 (ipykernel)",
   "language": "python",
   "name": "python3"
  },
  "language_info": {
   "codemirror_mode": {
    "name": "ipython",
    "version": 3
   },
   "file_extension": ".py",
   "mimetype": "text/x-python",
   "name": "python",
   "nbconvert_exporter": "python",
   "pygments_lexer": "ipython3",
   "version": "3.7.8"
  }
 },
 "nbformat": 4,
 "nbformat_minor": 5
}
