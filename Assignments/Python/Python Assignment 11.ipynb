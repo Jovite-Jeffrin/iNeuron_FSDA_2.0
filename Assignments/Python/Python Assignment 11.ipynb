{
 "cells": [
  {
   "cell_type": "markdown",
   "id": "11171826",
   "metadata": {},
   "source": [
    "#### 1. Create an assert statement that throws an AssertionError if the variable spam is a negative integer."
   ]
  },
  {
   "cell_type": "code",
   "execution_count": 1,
   "id": "6e3753f5",
   "metadata": {},
   "outputs": [],
   "source": [
    "num = 4\n",
    "\n",
    "assert num>0"
   ]
  },
  {
   "cell_type": "code",
   "execution_count": 3,
   "id": "4d696b06",
   "metadata": {},
   "outputs": [
    {
     "ename": "AssertionError",
     "evalue": "Value must be greater than 0",
     "output_type": "error",
     "traceback": [
      "\u001b[1;31m---------------------------------------------------------------------------\u001b[0m",
      "\u001b[1;31mAssertionError\u001b[0m                            Traceback (most recent call last)",
      "\u001b[1;32m~\\AppData\\Local\\Temp\\ipykernel_1304\\1190009003.py\u001b[0m in \u001b[0;36m<module>\u001b[1;34m\u001b[0m\n\u001b[0;32m      1\u001b[0m \u001b[0mnum\u001b[0m \u001b[1;33m=\u001b[0m \u001b[1;33m-\u001b[0m\u001b[1;36m4\u001b[0m\u001b[1;33m\u001b[0m\u001b[1;33m\u001b[0m\u001b[0m\n\u001b[0;32m      2\u001b[0m \u001b[1;33m\u001b[0m\u001b[0m\n\u001b[1;32m----> 3\u001b[1;33m \u001b[1;32massert\u001b[0m \u001b[0mnum\u001b[0m\u001b[1;33m>\u001b[0m\u001b[1;36m0\u001b[0m \u001b[1;33m,\u001b[0m \u001b[1;34m\"Value must be greater than 0\"\u001b[0m\u001b[1;33m\u001b[0m\u001b[1;33m\u001b[0m\u001b[0m\n\u001b[0m",
      "\u001b[1;31mAssertionError\u001b[0m: Value must be greater than 0"
     ]
    }
   ],
   "source": [
    "num = -4\n",
    "\n",
    "assert num>0 , \"Value must be greater than 0\""
   ]
  },
  {
   "cell_type": "markdown",
   "id": "f474081a",
   "metadata": {},
   "source": [
    "#### 2. Write an assert statement that triggers an AssertionError if the variables eggs and bacon contain strings that are the same as each other, even if their cases are different (that is, 'hello' and 'hello' are considered the same, and 'goodbye' and 'GOODbye' are also considered the same)."
   ]
  },
  {
   "cell_type": "code",
   "execution_count": 6,
   "id": "c0353bcb",
   "metadata": {},
   "outputs": [],
   "source": [
    "eggs = 'Hello'\n",
    "bacon = 'hello'\n",
    "\n",
    "assert eggs != bacon, \"Both are same\""
   ]
  },
  {
   "cell_type": "code",
   "execution_count": 9,
   "id": "a6bcd5cd",
   "metadata": {},
   "outputs": [
    {
     "ename": "AssertionError",
     "evalue": "Both are same",
     "output_type": "error",
     "traceback": [
      "\u001b[1;31m---------------------------------------------------------------------------\u001b[0m",
      "\u001b[1;31mAssertionError\u001b[0m                            Traceback (most recent call last)",
      "\u001b[1;32m~\\AppData\\Local\\Temp\\ipykernel_1304\\3789175053.py\u001b[0m in \u001b[0;36m<module>\u001b[1;34m\u001b[0m\n\u001b[0;32m      2\u001b[0m \u001b[0mbacon\u001b[0m \u001b[1;33m=\u001b[0m \u001b[1;34m'hello'\u001b[0m\u001b[1;33m\u001b[0m\u001b[1;33m\u001b[0m\u001b[0m\n\u001b[0;32m      3\u001b[0m \u001b[1;33m\u001b[0m\u001b[0m\n\u001b[1;32m----> 4\u001b[1;33m \u001b[1;32massert\u001b[0m \u001b[0meggs\u001b[0m \u001b[1;33m!=\u001b[0m \u001b[0mbacon\u001b[0m\u001b[1;33m,\u001b[0m \u001b[1;34m\"Both are same\"\u001b[0m\u001b[1;33m\u001b[0m\u001b[1;33m\u001b[0m\u001b[0m\n\u001b[0m",
      "\u001b[1;31mAssertionError\u001b[0m: Both are same"
     ]
    }
   ],
   "source": [
    "eggs = 'hello'\n",
    "bacon = 'hello'\n",
    "\n",
    "assert eggs != bacon, \"Both are same\""
   ]
  },
  {
   "cell_type": "code",
   "execution_count": 10,
   "id": "0c48f568",
   "metadata": {},
   "outputs": [],
   "source": [
    "eggs = 'goodbye'\n",
    "bacon = 'GOODbye'\n",
    "\n",
    "assert eggs != bacon, \"Both are same\""
   ]
  },
  {
   "cell_type": "code",
   "execution_count": 11,
   "id": "93f04647",
   "metadata": {},
   "outputs": [
    {
     "ename": "SyntaxError",
     "evalue": "invalid syntax (1904558840.py, line 4)",
     "output_type": "error",
     "traceback": [
      "\u001b[1;36m  File \u001b[1;32m\"C:\\Users\\Jovite Jeffrin\\AppData\\Local\\Temp\\ipykernel_1304\\1904558840.py\"\u001b[1;36m, line \u001b[1;32m4\u001b[0m\n\u001b[1;33m    assert eggs = bacon, \"Both are same\"\u001b[0m\n\u001b[1;37m                ^\u001b[0m\n\u001b[1;31mSyntaxError\u001b[0m\u001b[1;31m:\u001b[0m invalid syntax\n"
     ]
    }
   ],
   "source": [
    "eggs = 'goodbye'\n",
    "bacon = 'GOODbye'\n",
    "\n",
    "assert eggs = bacon, \"Both are same\""
   ]
  },
  {
   "cell_type": "markdown",
   "id": "373d7a9d",
   "metadata": {},
   "source": [
    "#### 3. Create an assert statement that throws an AssertionError every time."
   ]
  },
  {
   "cell_type": "code",
   "execution_count": 8,
   "id": "acc4c90c",
   "metadata": {},
   "outputs": [
    {
     "ename": "AssertionError",
     "evalue": "This statement will always throws an error",
     "output_type": "error",
     "traceback": [
      "\u001b[1;31m---------------------------------------------------------------------------\u001b[0m",
      "\u001b[1;31mAssertionError\u001b[0m                            Traceback (most recent call last)",
      "\u001b[1;32m~\\AppData\\Local\\Temp\\ipykernel_1304\\1382617191.py\u001b[0m in \u001b[0;36m<module>\u001b[1;34m\u001b[0m\n\u001b[1;32m----> 1\u001b[1;33m \u001b[1;32massert\u001b[0m \u001b[1;32mFalse\u001b[0m\u001b[1;33m,\u001b[0m \u001b[1;34m\"This statement will always throws an error\"\u001b[0m\u001b[1;33m\u001b[0m\u001b[1;33m\u001b[0m\u001b[0m\n\u001b[0m",
      "\u001b[1;31mAssertionError\u001b[0m: This statement will always throws an error"
     ]
    }
   ],
   "source": [
    "assert False, \"This statement will always throws an error\""
   ]
  },
  {
   "cell_type": "markdown",
   "id": "13385e4e",
   "metadata": {},
   "source": [
    "#### 4. What are the two lines that must be present in your software in order to call logging.debug()?"
   ]
  },
  {
   "cell_type": "code",
   "execution_count": 12,
   "id": "8634c1b5",
   "metadata": {},
   "outputs": [],
   "source": [
    "import logging\n",
    "logging.basicConfig(level=logging.DEBUG, format='%(asctime)s - %(name)s - %(levelname)s - %(message)s')"
   ]
  },
  {
   "cell_type": "markdown",
   "id": "c800bc65",
   "metadata": {},
   "source": [
    "#### 5. What are the two lines that your program must have in order to have logging.debug() send a logging message to a file named programLog.txt?"
   ]
  },
  {
   "cell_type": "code",
   "execution_count": 13,
   "id": "e2eb76fe",
   "metadata": {},
   "outputs": [
    {
     "name": "stderr",
     "output_type": "stream",
     "text": [
      "2023-09-09 16:39:01,984 - root - DEBUG - Data Inserted Successfully\n",
      "2023-09-09 16:39:01,989 - root - DEBUG - Connection Closed Successfully\n"
     ]
    }
   ],
   "source": [
    "logging.basicConfig(filename = 'programLog.txt',level=logging.DEBUG, format=' %(asctime)s - %(levelname)s - %(message)s')\n",
    "logging.debug(\"Data Inserted Successfully\")\n",
    "logging.debug('Connection Closed Successfully')"
   ]
  },
  {
   "cell_type": "markdown",
   "id": "d2f56264",
   "metadata": {},
   "source": [
    "#### 6. What are the five levels of logging?"
   ]
  },
  {
   "cell_type": "markdown",
   "id": "c245d7c6",
   "metadata": {},
   "source": [
    "There are five standard levels of logging that you can use to categorize and control the verbosity of log messages.\n",
    "\n",
    "DEBUG: The lowest level of logging. Use this level for detailed debugging information. These messages are typically used during development and debugging to track the flow of your program and diagnose issues.\n",
    "\n",
    "INFO: The level for general informational messages. Use this level to record important events or milestones in your program's execution. INFO messages are often used to provide status updates.\n",
    "\n",
    "WARNING: This level is used for warning messages that indicate potential issues or unexpected situations that don't necessarily stop the program's execution but should be noted. Warnings can be used to identify situations that may require attention.\n",
    "\n",
    "ERROR: Use this level for logging error messages. Error messages indicate that something has gone wrong in your program, but it may still continue running. Error messages are often used to record exceptions or other significant errors.\n",
    "\n",
    "CRITICAL: The highest level of logging. Use this level for critical error messages that indicate a severe problem that prevents the program from continuing its execution. These messages are used to report critical failures that require immediate attention."
   ]
  },
  {
   "cell_type": "markdown",
   "id": "0869e556",
   "metadata": {},
   "source": [
    "#### 7. What line of code would you add to your software to disable all logging messages?"
   ]
  },
  {
   "cell_type": "code",
   "execution_count": 17,
   "id": "3190eb42",
   "metadata": {},
   "outputs": [],
   "source": [
    "import logging\n",
    "logging.basicConfig(level=logging.CRITICAL + 1)"
   ]
  },
  {
   "cell_type": "markdown",
   "id": "80afd232",
   "metadata": {},
   "source": [
    "#### 8. Why is using logging messages better than using print() to display the same message?"
   ]
  },
  {
   "cell_type": "markdown",
   "id": "688ea3f2",
   "metadata": {},
   "source": [
    "We can disable logging messages without removing the logging function calls and we can selectively disable lower-level logging messages. We can create logging messages. Logging messages provides a timestamp."
   ]
  },
  {
   "cell_type": "markdown",
   "id": "a6721214",
   "metadata": {},
   "source": [
    "#### 9. What are the differences between the Step Over, Step In, and Step Out buttons in the debugger?"
   ]
  },
  {
   "cell_type": "markdown",
   "id": "d1e53efd",
   "metadata": {},
   "source": [
    "Step Over is for moving forward one line at a time, including function calls, but without diving into called functions.\n",
    "Step In is for entering a called function to debug its contents.\n",
    "Step Out is for quickly finishing the current function and returning to the caller."
   ]
  },
  {
   "cell_type": "markdown",
   "id": "ebcba330",
   "metadata": {},
   "source": [
    "#### 10. After you click Continue, when will the debugger stop ?"
   ]
  },
  {
   "cell_type": "markdown",
   "id": "a59f1012",
   "metadata": {},
   "source": [
    "If there are breakpoints set in your code, the debugger will stop when the program execution reaches a line of code where a breakpoint is set.Or else it will continue to run normally. "
   ]
  },
  {
   "cell_type": "markdown",
   "id": "50b6a69c",
   "metadata": {},
   "source": [
    "#### 11. What is the concept of a breakpoint?"
   ]
  },
  {
   "cell_type": "markdown",
   "id": "f7574f75",
   "metadata": {},
   "source": [
    "A breakpoint is a debugging feature used to pause or interrupt the execution of a program at a specific point in the code. Breakpoints are majorly used in the debugging process because they allow developers to inspect the program's state, variables, and behavior at a particular location in the code, helping to identify and diagnose issues."
   ]
  }
 ],
 "metadata": {
  "kernelspec": {
   "display_name": "Python 3 (ipykernel)",
   "language": "python",
   "name": "python3"
  },
  "language_info": {
   "codemirror_mode": {
    "name": "ipython",
    "version": 3
   },
   "file_extension": ".py",
   "mimetype": "text/x-python",
   "name": "python",
   "nbconvert_exporter": "python",
   "pygments_lexer": "ipython3",
   "version": "3.7.8"
  }
 },
 "nbformat": 4,
 "nbformat_minor": 5
}
