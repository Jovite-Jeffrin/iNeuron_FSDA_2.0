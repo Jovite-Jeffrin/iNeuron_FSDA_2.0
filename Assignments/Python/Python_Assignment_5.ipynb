{
 "cells": [
  {
   "cell_type": "markdown",
   "id": "63606ae3",
   "metadata": {},
   "source": [
    "### 1. What does an empty dictionary's code look like?\n",
    "    \n",
    "    The dictionary is denoted within { }. The empty dictionary is declared as : empty_dict = {}"
   ]
  },
  {
   "cell_type": "code",
   "execution_count": 3,
   "id": "b6d3330d",
   "metadata": {},
   "outputs": [
    {
     "data": {
      "text/plain": [
       "dict"
      ]
     },
     "execution_count": 3,
     "metadata": {},
     "output_type": "execute_result"
    }
   ],
   "source": [
    "empty_dict = {}\n",
    "type(empty_dict)"
   ]
  },
  {
   "cell_type": "markdown",
   "id": "5cfa1fd1",
   "metadata": {},
   "source": [
    "### 2. What is the value of a dictionary value with the key 'foo' and the value 42?\n",
    "    Dictionary contains the key:value paris. \n",
    "    \n",
    "    my_disc = {\n",
    "        'foo' = 42\n",
    "    }"
   ]
  },
  {
   "cell_type": "code",
   "execution_count": 6,
   "id": "2671b971",
   "metadata": {},
   "outputs": [
    {
     "data": {
      "text/plain": [
       "42"
      ]
     },
     "execution_count": 6,
     "metadata": {},
     "output_type": "execute_result"
    }
   ],
   "source": [
    "my_dic = {\n",
    "        'foo' : 42\n",
    "    }\n",
    "\n",
    "my_dic['foo']"
   ]
  },
  {
   "cell_type": "markdown",
   "id": "bf04abe4",
   "metadata": {},
   "source": [
    "### 3. What is the most significant distinction between a dictionary and a list?\n",
    "    Dictionary are unordered '{}' whereas list is ordered in items '[]'. List may contain many datatypes like int, float, strings. Dictionary will contain only single value as an element."
   ]
  },
  {
   "cell_type": "markdown",
   "id": "d67919e3",
   "metadata": {},
   "source": [
    "### 4. What happens if you try to access spam['foo'] if spam is {'bar': 100}?\n",
    "    Since there is no value for the key foo, it will throw error."
   ]
  },
  {
   "cell_type": "code",
   "execution_count": 7,
   "id": "a0be88fc",
   "metadata": {},
   "outputs": [
    {
     "ename": "KeyError",
     "evalue": "'foo'",
     "output_type": "error",
     "traceback": [
      "\u001b[1;31m---------------------------------------------------------------------------\u001b[0m",
      "\u001b[1;31mKeyError\u001b[0m                                  Traceback (most recent call last)",
      "\u001b[1;32m~\\AppData\\Local\\Temp\\ipykernel_5584\\2062952077.py\u001b[0m in \u001b[0;36m<module>\u001b[1;34m\u001b[0m\n\u001b[0;32m      3\u001b[0m }\n\u001b[0;32m      4\u001b[0m \u001b[1;33m\u001b[0m\u001b[0m\n\u001b[1;32m----> 5\u001b[1;33m \u001b[0mspam\u001b[0m\u001b[1;33m[\u001b[0m\u001b[1;34m'foo'\u001b[0m\u001b[1;33m]\u001b[0m\u001b[1;33m\u001b[0m\u001b[1;33m\u001b[0m\u001b[0m\n\u001b[0m",
      "\u001b[1;31mKeyError\u001b[0m: 'foo'"
     ]
    }
   ],
   "source": [
    "spam = {\n",
    "    'bar' : 100\n",
    "}\n",
    "\n",
    "spam['foo']"
   ]
  },
  {
   "cell_type": "markdown",
   "id": "0235055b",
   "metadata": {},
   "source": [
    "### 5. If a dictionary is stored in spam, what is the difference between the expressions 'cat' in spam and 'cat' in spam.keys()?\n",
    "    It returns true for both since both keys are cat in the dictionary."
   ]
  },
  {
   "cell_type": "code",
   "execution_count": 10,
   "id": "36f2400a",
   "metadata": {},
   "outputs": [],
   "source": [
    " spam = {\n",
    "     'cat' : 'persian breed'\n",
    " }"
   ]
  },
  {
   "cell_type": "code",
   "execution_count": 11,
   "id": "ab58b925",
   "metadata": {},
   "outputs": [
    {
     "data": {
      "text/plain": [
       "True"
      ]
     },
     "execution_count": 11,
     "metadata": {},
     "output_type": "execute_result"
    }
   ],
   "source": [
    "'cat' in spam"
   ]
  },
  {
   "cell_type": "code",
   "execution_count": 12,
   "id": "056c8c01",
   "metadata": {},
   "outputs": [
    {
     "data": {
      "text/plain": [
       "dict_keys(['cat'])"
      ]
     },
     "execution_count": 12,
     "metadata": {},
     "output_type": "execute_result"
    }
   ],
   "source": [
    "spam.keys()"
   ]
  },
  {
   "cell_type": "code",
   "execution_count": 14,
   "id": "d1a016da",
   "metadata": {},
   "outputs": [
    {
     "data": {
      "text/plain": [
       "True"
      ]
     },
     "execution_count": 14,
     "metadata": {},
     "output_type": "execute_result"
    }
   ],
   "source": [
    "'cat' in spam.keys()"
   ]
  },
  {
   "cell_type": "markdown",
   "id": "d6122e41",
   "metadata": {},
   "source": [
    "### 6. If a dictionary is stored in spam, what is the difference between the expressions 'cat' in spam and 'cat' in spam.values()?"
   ]
  },
  {
   "cell_type": "code",
   "execution_count": 15,
   "id": "c0166ae0",
   "metadata": {},
   "outputs": [],
   "source": [
    " spam = {\n",
    "     'cat' : 'persian breed'\n",
    " }"
   ]
  },
  {
   "cell_type": "code",
   "execution_count": 16,
   "id": "1ff4bb83",
   "metadata": {},
   "outputs": [
    {
     "data": {
      "text/plain": [
       "True"
      ]
     },
     "execution_count": 16,
     "metadata": {},
     "output_type": "execute_result"
    }
   ],
   "source": [
    "'cat' in spam # It is the key and it is present in the dictionary. So it returns true"
   ]
  },
  {
   "cell_type": "code",
   "execution_count": 18,
   "id": "bf7d128c",
   "metadata": {},
   "outputs": [
    {
     "data": {
      "text/plain": [
       "False"
      ]
     },
     "execution_count": 18,
     "metadata": {},
     "output_type": "execute_result"
    }
   ],
   "source": [
    "'cat' in spam.values() # Since it is the key not a value, it returns false."
   ]
  },
  {
   "cell_type": "markdown",
   "id": "7b6d0195",
   "metadata": {},
   "source": [
    "### 7. What is a shortcut for the following code?\n",
    "    if 'color' not in spam:\n",
    "        spam['color'] = 'black'"
   ]
  },
  {
   "cell_type": "code",
   "execution_count": 19,
   "id": "d640b6cc",
   "metadata": {},
   "outputs": [
    {
     "data": {
      "text/plain": [
       "{'cat': 'persian breed', 'color': 'black'}"
      ]
     },
     "execution_count": 19,
     "metadata": {},
     "output_type": "execute_result"
    }
   ],
   "source": [
    "spam = {\n",
    "    'cat' : 'persian breed'\n",
    "}\n",
    "spam.setdefault('color','black') # It will insert in the disctinary if it is not present inside.\n",
    "\n",
    "spam"
   ]
  },
  {
   "cell_type": "markdown",
   "id": "c7219fb6",
   "metadata": {},
   "source": [
    "### 8. How do you \"pretty print\" dictionary values using which module and function?\n",
    "       Pretty print is a dictionary that has dictionary as values."
   ]
  },
  {
   "cell_type": "code",
   "execution_count": 24,
   "id": "f8b5ce9c",
   "metadata": {},
   "outputs": [
    {
     "name": "stdout",
     "output_type": "stream",
     "text": [
      "Value of Pretty Print dictionary : \n",
      "car\n",
      "Audi : 2\n",
      "BMW : 5 Series\n",
      "Bike\n",
      "Ninja H2R : 1\n"
     ]
    }
   ],
   "source": [
    "my_dict = {'car': {'Audi': 2, 'BMW': '5 Series'}, 'Bike': {'Ninja H2R': 1}}\n",
    "\n",
    "print(\"Value of Pretty Print dictionary : \")\n",
    "for i in my_dict:\n",
    "    print(i)\n",
    "    for j in my_dict[i]:\n",
    "        print(j, ':', my_dict[i][j])\n"
   ]
  }
 ],
 "metadata": {
  "kernelspec": {
   "display_name": "Python 3 (ipykernel)",
   "language": "python",
   "name": "python3"
  },
  "language_info": {
   "codemirror_mode": {
    "name": "ipython",
    "version": 3
   },
   "file_extension": ".py",
   "mimetype": "text/x-python",
   "name": "python",
   "nbconvert_exporter": "python",
   "pygments_lexer": "ipython3",
   "version": "3.7.8"
  }
 },
 "nbformat": 4,
 "nbformat_minor": 5
}
