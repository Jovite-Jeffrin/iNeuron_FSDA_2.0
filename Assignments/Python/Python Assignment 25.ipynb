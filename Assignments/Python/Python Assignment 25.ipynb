{
 "cells": [
  {
   "cell_type": "markdown",
   "id": "f38785bd",
   "metadata": {},
   "source": [
    "### 1) . What is the difference between enclosing a list comprehension in square brackets and parentheses?\n",
    "List comprehension with the square brackets returns list whearas paranthesis return generators."
   ]
  },
  {
   "cell_type": "code",
   "execution_count": 1,
   "id": "2732b63c",
   "metadata": {},
   "outputs": [
    {
     "data": {
      "text/plain": [
       "[0, 1, 2, 3, 4, 5, 6, 7, 8, 9]"
      ]
     },
     "execution_count": 1,
     "metadata": {},
     "output_type": "execute_result"
    }
   ],
   "source": [
    "list1 = [i for i in range(10)]\n",
    "list1"
   ]
  },
  {
   "cell_type": "code",
   "execution_count": 12,
   "id": "f56756a9",
   "metadata": {},
   "outputs": [
    {
     "data": {
      "text/plain": [
       "<generator object <genexpr> at 0x0000021DC02EA548>"
      ]
     },
     "execution_count": 12,
     "metadata": {},
     "output_type": "execute_result"
    }
   ],
   "source": [
    "list2 = (i for i in range(10))\n",
    "list2"
   ]
  },
  {
   "cell_type": "code",
   "execution_count": 13,
   "id": "552baeee",
   "metadata": {},
   "outputs": [
    {
     "data": {
      "text/plain": [
       "[0, 1, 2, 3, 4, 5, 6, 7, 8, 9]"
      ]
     },
     "execution_count": 13,
     "metadata": {},
     "output_type": "execute_result"
    }
   ],
   "source": [
    "#if we want to convert it into list\n",
    "list(list2)"
   ]
  },
  {
   "cell_type": "markdown",
   "id": "1c522e76",
   "metadata": {},
   "source": [
    "### 2) What is the relationship between generators and iterators?\n",
    "\n",
    "#### Iterator: \n",
    "Iterator is the object which counts the number of countable values and used to iterate over the iterable objects in lists, tuples etc.\n",
    "The iterators are :\n",
    "iter() : used to create the iterator containing the iterable objects\n",
    "next() : used to iterate over the next values"
   ]
  },
  {
   "cell_type": "code",
   "execution_count": 18,
   "id": "fe35a31f",
   "metadata": {},
   "outputs": [
    {
     "name": "stdout",
     "output_type": "stream",
     "text": [
      "C\n",
      "Java\n",
      "Python\n"
     ]
    }
   ],
   "source": [
    "item3 = iter([\"C\",\"Java\",\"Python\"])\n",
    "print(next(item3))\n",
    "print(next(item3))\n",
    "print(next(item3))"
   ]
  },
  {
   "cell_type": "markdown",
   "id": "97296fd7",
   "metadata": {},
   "source": [
    "#### Generator:\n",
    "Generator is the another way of creating iterator in simple way using the yeild keyword. Generators are implemented using a function. Yeild funtion returns the data without affecting or exiting the function. It will return sequence of data in an iterable format.They won't store the sequence in the memory. By next() function we can iterate the output of generator function."
   ]
  },
  {
   "cell_type": "code",
   "execution_count": 20,
   "id": "8b0c1b25",
   "metadata": {},
   "outputs": [],
   "source": [
    "def sq_num(n):\n",
    "    for i in range(0,n):\n",
    "        yield i*i"
   ]
  },
  {
   "cell_type": "code",
   "execution_count": 21,
   "id": "8634fb89",
   "metadata": {},
   "outputs": [
    {
     "data": {
      "text/plain": [
       "<generator object sq_num at 0x0000021DC02EA0C8>"
      ]
     },
     "execution_count": 21,
     "metadata": {},
     "output_type": "execute_result"
    }
   ],
   "source": [
    "sq_num(5)"
   ]
  },
  {
   "cell_type": "code",
   "execution_count": 28,
   "id": "d849a2d6",
   "metadata": {},
   "outputs": [
    {
     "data": {
      "text/plain": [
       "<generator object sq_num at 0x0000021DC0371E48>"
      ]
     },
     "execution_count": 28,
     "metadata": {},
     "output_type": "execute_result"
    }
   ],
   "source": [
    "list4 = sq_num(5)\n",
    "list4"
   ]
  },
  {
   "cell_type": "code",
   "execution_count": 29,
   "id": "bc1ff522",
   "metadata": {},
   "outputs": [
    {
     "name": "stdout",
     "output_type": "stream",
     "text": [
      "0\n",
      "1\n",
      "4\n",
      "9\n"
     ]
    }
   ],
   "source": [
    "print(next(list4))\n",
    "print(next(list4))\n",
    "print(next(list4))\n",
    "print(next(list4))"
   ]
  },
  {
   "cell_type": "markdown",
   "id": "a9268ce7",
   "metadata": {},
   "source": [
    "### 3) What are the signs that a function is a generator function?\n",
    "If a funtion contains yeild statement then it is a generator function. But both yeild and return statement return the values in the function"
   ]
  },
  {
   "cell_type": "markdown",
   "id": "acd7b583",
   "metadata": {},
   "source": [
    "### 4) What is the purpose of a yield statement?\n",
    "A yield statement looks much like a return statement, except that instead of stopping execution of the function and \n",
    "returning, yield instead provides a value to the code looping over the generator and pauses execution of the generator \n",
    "function"
   ]
  },
  {
   "cell_type": "markdown",
   "id": "dde913f8",
   "metadata": {},
   "source": [
    "### 5) What is the relationship between map calls and list comprehensions? Make a comparison and contrast between the two."
   ]
  },
  {
   "cell_type": "markdown",
   "id": "ea27ac16",
   "metadata": {},
   "source": [
    "#### map() function returns a map object(which is an iterator) of the results after applying the given function to each item of a given iterable (list, tuple etc.). list() is a substitue for lambda(), map()"
   ]
  },
  {
   "cell_type": "code",
   "execution_count": 30,
   "id": "92cd1431",
   "metadata": {},
   "outputs": [
    {
     "name": "stdout",
     "output_type": "stream",
     "text": [
      "[2, 4, 6, 8]\n"
     ]
    }
   ],
   "source": [
    "def addition(n):\n",
    "    return n + n\n",
    "\n",
    "numbers = (1, 2, 3, 4)\n",
    "result = map(addition, numbers)\n",
    "print(list(result))"
   ]
  },
  {
   "cell_type": "markdown",
   "id": "dfd49c7e",
   "metadata": {},
   "source": [
    "#### Comparision :\n",
    "    1. List comprehension is more concise and easier to read as compared to map\n",
    "    2. List comprehension allows filtering. In map, we have no such facility\n",
    "    For example, to print all even numbers in range of 100, we can write [n for n in range(100) if n%2 == 0]. There is \n",
    "    no alternate for it in map\n",
    "    3. List comprehension are used when a list of results is required, where as map only returns a map object and does \n",
    "    not return any list.\n",
    "    4. List comprehension is faster than map when we need to evaluate expressions that are too long or complicated \n",
    "    to express\n",
    "    5. Map is faster in case of calling an already defined function (as no lambda is required) "
   ]
  },
  {
   "cell_type": "code",
   "execution_count": null,
   "id": "abd1d16a",
   "metadata": {},
   "outputs": [],
   "source": []
  },
  {
   "cell_type": "code",
   "execution_count": null,
   "id": "c34c33ed",
   "metadata": {},
   "outputs": [],
   "source": []
  },
  {
   "cell_type": "code",
   "execution_count": null,
   "id": "2a1365b8",
   "metadata": {},
   "outputs": [],
   "source": []
  },
  {
   "cell_type": "code",
   "execution_count": null,
   "id": "663f98bf",
   "metadata": {},
   "outputs": [],
   "source": []
  }
 ],
 "metadata": {
  "kernelspec": {
   "display_name": "Python 3 (ipykernel)",
   "language": "python",
   "name": "python3"
  },
  "language_info": {
   "codemirror_mode": {
    "name": "ipython",
    "version": 3
   },
   "file_extension": ".py",
   "mimetype": "text/x-python",
   "name": "python",
   "nbconvert_exporter": "python",
   "pygments_lexer": "ipython3",
   "version": "3.7.8"
  }
 },
 "nbformat": 4,
 "nbformat_minor": 5
}
