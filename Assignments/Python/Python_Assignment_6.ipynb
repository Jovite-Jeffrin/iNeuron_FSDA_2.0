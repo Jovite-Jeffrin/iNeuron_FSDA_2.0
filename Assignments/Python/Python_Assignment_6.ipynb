{
 "cells": [
  {
   "cell_type": "markdown",
   "id": "cd29a481",
   "metadata": {},
   "source": [
    "### 1. What are escape characters, and how do you use them?\n",
    "    The special character '/' is called the escape character. The escape characters are \\n, \\t, \\b etc. "
   ]
  },
  {
   "cell_type": "markdown",
   "id": "31e5c104",
   "metadata": {},
   "source": [
    "### 2. What do the escape characters n and t stand for?"
   ]
  },
  {
   "cell_type": "code",
   "execution_count": 1,
   "id": "7dad581e",
   "metadata": {},
   "outputs": [
    {
     "name": "stdout",
     "output_type": "stream",
     "text": [
      "Hello\n",
      "World!\n"
     ]
    }
   ],
   "source": [
    "text = \"Hello\\nWorld!\" # it will print the characters to the next line after the declararion\n",
    "print(text) "
   ]
  },
  {
   "cell_type": "code",
   "execution_count": 2,
   "id": "88cdcc18",
   "metadata": {},
   "outputs": [
    {
     "name": "stdout",
     "output_type": "stream",
     "text": [
      "Hello\tWorld!\n"
     ]
    }
   ],
   "source": [
    "text = \"Hello\\tWorld!\" # it will give a tab space \n",
    "print(text) "
   ]
  },
  {
   "cell_type": "markdown",
   "id": "b0bbc1b2",
   "metadata": {},
   "source": [
    "### 3. What is the way to include backslash characters in a string?"
   ]
  },
  {
   "cell_type": "code",
   "execution_count": 6,
   "id": "47cce4d8",
   "metadata": {},
   "outputs": [
    {
     "name": "stdout",
     "output_type": "stream",
     "text": [
      "Hello \bWorld!\n"
     ]
    }
   ],
   "source": [
    "text = \"Hello \\bWorld!\" # it will erase one character\n",
    "print(text) "
   ]
  },
  {
   "cell_type": "markdown",
   "id": "092102f6",
   "metadata": {},
   "source": [
    "### 4. The string \"Howl's Moving Castle\" is a correct value. Why isn't the single quote character in the word Howl's not escaped a problem?\n",
    "    Because in the beginning and the end we have declared using double quotes, so it doesn't cause the problem inside the single quote and vise versa."
   ]
  },
  {
   "cell_type": "code",
   "execution_count": 9,
   "id": "558a017e",
   "metadata": {},
   "outputs": [
    {
     "name": "stdout",
     "output_type": "stream",
     "text": [
      "Howl's Moving Castle\n"
     ]
    }
   ],
   "source": [
    "my_str = \"Howl's Moving Castle\"\n",
    "print(my_str)"
   ]
  },
  {
   "cell_type": "code",
   "execution_count": 10,
   "id": "f3a4ccde",
   "metadata": {},
   "outputs": [
    {
     "name": "stdout",
     "output_type": "stream",
     "text": [
      "Howl\"s Moving Castle\n"
     ]
    }
   ],
   "source": [
    "my_str = 'Howl\"s Moving Castle'\n",
    "print(my_str)"
   ]
  },
  {
   "cell_type": "markdown",
   "id": "b09fc0d2",
   "metadata": {},
   "source": [
    "### 5. How do you write a string of newlines if you don't want to use the n character?\n",
    "    We can declare the end = '\\n' in the print statement."
   ]
  },
  {
   "cell_type": "code",
   "execution_count": 14,
   "id": "6b2487d8",
   "metadata": {},
   "outputs": [
    {
     "name": "stdout",
     "output_type": "stream",
     "text": [
      "This is the first line\n",
      "This is the second line\n"
     ]
    }
   ],
   "source": [
    "print(\"This is the first line\",end='\\n')\n",
    "print(\"This is the second line\")"
   ]
  },
  {
   "cell_type": "markdown",
   "id": "ab58b5b0",
   "metadata": {},
   "source": [
    "### 6. What are the values of the given expressions?"
   ]
  },
  {
   "cell_type": "code",
   "execution_count": 15,
   "id": "4772c024",
   "metadata": {},
   "outputs": [
    {
     "data": {
      "text/plain": [
       "'e'"
      ]
     },
     "execution_count": 15,
     "metadata": {},
     "output_type": "execute_result"
    }
   ],
   "source": [
    "'Hello, world!'[1]"
   ]
  },
  {
   "cell_type": "code",
   "execution_count": 16,
   "id": "780ffaff",
   "metadata": {},
   "outputs": [
    {
     "data": {
      "text/plain": [
       "'Hello'"
      ]
     },
     "execution_count": 16,
     "metadata": {},
     "output_type": "execute_result"
    }
   ],
   "source": [
    "'Hello, world!'[0:5]"
   ]
  },
  {
   "cell_type": "code",
   "execution_count": 17,
   "id": "95a862ef",
   "metadata": {},
   "outputs": [
    {
     "data": {
      "text/plain": [
       "'Hello'"
      ]
     },
     "execution_count": 17,
     "metadata": {},
     "output_type": "execute_result"
    }
   ],
   "source": [
    "'Hello, world!'[:5]"
   ]
  },
  {
   "cell_type": "code",
   "execution_count": 18,
   "id": "7bb58f1a",
   "metadata": {},
   "outputs": [
    {
     "data": {
      "text/plain": [
       "'lo, world!'"
      ]
     },
     "execution_count": 18,
     "metadata": {},
     "output_type": "execute_result"
    }
   ],
   "source": [
    "'Hello, world!'[3:]"
   ]
  },
  {
   "cell_type": "markdown",
   "id": "367ae837",
   "metadata": {},
   "source": [
    "### 7. What are the values of the following expressions?"
   ]
  },
  {
   "cell_type": "code",
   "execution_count": 19,
   "id": "b0257e18",
   "metadata": {},
   "outputs": [
    {
     "data": {
      "text/plain": [
       "'HELLO'"
      ]
     },
     "execution_count": 19,
     "metadata": {},
     "output_type": "execute_result"
    }
   ],
   "source": [
    "'Hello'.upper()"
   ]
  },
  {
   "cell_type": "code",
   "execution_count": 20,
   "id": "d92c51c6",
   "metadata": {},
   "outputs": [
    {
     "data": {
      "text/plain": [
       "True"
      ]
     },
     "execution_count": 20,
     "metadata": {},
     "output_type": "execute_result"
    }
   ],
   "source": [
    "'Hello'.upper().isupper()"
   ]
  },
  {
   "cell_type": "code",
   "execution_count": 21,
   "id": "b338a60e",
   "metadata": {},
   "outputs": [
    {
     "data": {
      "text/plain": [
       "'hello'"
      ]
     },
     "execution_count": 21,
     "metadata": {},
     "output_type": "execute_result"
    }
   ],
   "source": [
    "'Hello'.upper().lower()"
   ]
  },
  {
   "cell_type": "markdown",
   "id": "9b882ee4",
   "metadata": {},
   "source": [
    "### 8. What are the values of the following expressions?"
   ]
  },
  {
   "cell_type": "code",
   "execution_count": 22,
   "id": "62b34a6d",
   "metadata": {},
   "outputs": [
    {
     "data": {
      "text/plain": [
       "['Remember,', 'remember,', 'the', 'fifth', 'of', 'July.']"
      ]
     },
     "execution_count": 22,
     "metadata": {},
     "output_type": "execute_result"
    }
   ],
   "source": [
    "'Remember, remember, the fifth of July.'.split()"
   ]
  },
  {
   "cell_type": "code",
   "execution_count": 25,
   "id": "00d8aa55",
   "metadata": {},
   "outputs": [
    {
     "data": {
      "text/plain": [
       "'There-can-only-one.'"
      ]
     },
     "execution_count": 25,
     "metadata": {},
     "output_type": "execute_result"
    }
   ],
   "source": [
    "'-'.join('There can only one.'.split())"
   ]
  },
  {
   "cell_type": "markdown",
   "id": "e9a0510c",
   "metadata": {},
   "source": [
    "### 9. What are the methods for right-justifying, left-justifying, and centering a string?\n",
    "    There is a three methods of justifying the string\n",
    "    ljust() - justify from the left of the string\n",
    "    rjust() - justify from the right of the string\n",
    "    center() - justify it in the center of the string"
   ]
  },
  {
   "cell_type": "code",
   "execution_count": 32,
   "id": "d46e395a",
   "metadata": {},
   "outputs": [
    {
     "data": {
      "text/plain": [
       "'Hello world!----------------------------'"
      ]
     },
     "execution_count": 32,
     "metadata": {},
     "output_type": "execute_result"
    }
   ],
   "source": [
    "#left justifyied\n",
    "my_str = \"Hello world!\"\n",
    "my_str.ljust(40,\"-\")"
   ]
  },
  {
   "cell_type": "code",
   "execution_count": 33,
   "id": "c3ac499f",
   "metadata": {},
   "outputs": [
    {
     "data": {
      "text/plain": [
       "'----------------------------Hello world!'"
      ]
     },
     "execution_count": 33,
     "metadata": {},
     "output_type": "execute_result"
    }
   ],
   "source": [
    "#right justifyied\n",
    "my_str = \"Hello world!\"\n",
    "my_str.rjust(40,\"-\")"
   ]
  },
  {
   "cell_type": "code",
   "execution_count": 35,
   "id": "7cbbc2cd",
   "metadata": {},
   "outputs": [
    {
     "data": {
      "text/plain": [
       "'---------------Hello world!--------------'"
      ]
     },
     "execution_count": 35,
     "metadata": {},
     "output_type": "execute_result"
    }
   ],
   "source": [
    "#center justifyied\n",
    "my_str = \"Hello world!\"\n",
    "my_str.center(41,\"-\")"
   ]
  },
  {
   "cell_type": "markdown",
   "id": "b150f366",
   "metadata": {},
   "source": [
    "### 10. What is the best way to remove whitespace characters from the start or end?\n",
    "    The best way to remove white spaces is to use below strip functions\n",
    "    lstrip() - To remove the whitespaces from left of the string\n",
    "    rstrip() - To remove the whitespaces from right of the string"
   ]
  },
  {
   "cell_type": "code",
   "execution_count": 37,
   "id": "032b9158",
   "metadata": {},
   "outputs": [
    {
     "data": {
      "text/plain": [
       "'Hello world!                  '"
      ]
     },
     "execution_count": 37,
     "metadata": {},
     "output_type": "execute_result"
    }
   ],
   "source": [
    "my_str = \"                Hello world!                  \"\n",
    "my_str.lstrip()"
   ]
  },
  {
   "cell_type": "code",
   "execution_count": 38,
   "id": "4272cf64",
   "metadata": {},
   "outputs": [
    {
     "data": {
      "text/plain": [
       "'                Hello world!'"
      ]
     },
     "execution_count": 38,
     "metadata": {},
     "output_type": "execute_result"
    }
   ],
   "source": [
    "my_str = \"                Hello world!                  \"\n",
    "my_str.rstrip()"
   ]
  }
 ],
 "metadata": {
  "kernelspec": {
   "display_name": "Python 3 (ipykernel)",
   "language": "python",
   "name": "python3"
  },
  "language_info": {
   "codemirror_mode": {
    "name": "ipython",
    "version": 3
   },
   "file_extension": ".py",
   "mimetype": "text/x-python",
   "name": "python",
   "nbconvert_exporter": "python",
   "pygments_lexer": "ipython3",
   "version": "3.7.8"
  }
 },
 "nbformat": 4,
 "nbformat_minor": 5
}
