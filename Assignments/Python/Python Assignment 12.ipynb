{
 "cells": [
  {
   "cell_type": "markdown",
   "id": "f8d21d39",
   "metadata": {},
   "source": [
    "#### 1. In what modes should the PdfFileReader() and PdfFileWriter() File objects will be opened?"
   ]
  },
  {
   "cell_type": "markdown",
   "id": "72be6130",
   "metadata": {},
   "source": [
    "For PdfFileReader(): rb i.e. read binary\n",
    "\n",
    "For PdfFileWriter(): wb i.e. write binary"
   ]
  },
  {
   "cell_type": "markdown",
   "id": "43a0e599",
   "metadata": {},
   "source": [
    "#### 2. From a PdfFileReader object, how do you get a Page object for page 5?"
   ]
  },
  {
   "cell_type": "code",
   "execution_count": 2,
   "id": "6cb96596",
   "metadata": {},
   "outputs": [
    {
     "name": "stdout",
     "output_type": "stream",
     "text": [
      "Collecting PyPDF2\n",
      "  Downloading pypdf2-3.0.1-py3-none-any.whl (232 kB)\n",
      "     -------------------------------------- 232.6/232.6 kB 1.3 MB/s eta 0:00:00\n",
      "Requirement already satisfied: typing_extensions>=3.10.0.0 in c:\\python37\\lib\\site-packages (from PyPDF2) (4.4.0)\n",
      "Installing collected packages: PyPDF2\n",
      "Successfully installed PyPDF2-3.0.1\n",
      "Note: you may need to restart the kernel to use updated packages.\n"
     ]
    },
    {
     "name": "stderr",
     "output_type": "stream",
     "text": [
      "WARNING: Ignoring invalid distribution -otebook (c:\\python37\\lib\\site-packages)\n",
      "WARNING: Ignoring invalid distribution -otebook (c:\\python37\\lib\\site-packages)\n",
      "\n",
      "[notice] A new release of pip is available: 23.1.2 -> 23.2.1\n",
      "[notice] To update, run: python.exe -m pip install --upgrade pip\n"
     ]
    }
   ],
   "source": [
    "pip install PyPDF2"
   ]
  },
  {
   "cell_type": "code",
   "execution_count": 20,
   "id": "2f093a92",
   "metadata": {},
   "outputs": [
    {
     "data": {
      "text/plain": [
       "'Galactica: A Large Language Model for Science\\nFigure 2: Given a task like \"What is the average of 43, 29, 51, 13?\" a human can use internal or external\\nworking memory. In practice, they will use both symbiotically; meaning that working out that is written\\ndown in text is usually \"missing\" some steps performed internally.\\n3.1.1 Working Memory Token, <work>\\nTransformer-based architectures lack an explicit working memory capability, which means a single-forward\\npass has limited eﬃcacy. This is problematic for tasks that require multiple steps of computation. A current\\nworkaround is using a Transformer’s output context as an external working memory to read from and write\\nto. Thisis seenin recentwork onchain-of-thought prompting(Wei etal.,2022; Suzgunet al.,2022). In one\\nsense this is intuitive, as humans also augment their limited working memory with scratchpads. In another\\nsense, we would like models to reﬁne their representations internally like humans; e.g. mental arithmetic.\\nTherearetwolimitationswithchain-of-thought. First,itreliesonpromptdiscoverytoﬁndapromptthat\\nelicits robust step-by-step reasoning; i.e. minimizes mistakes from doing too much in a single forward pass.\\nNot only does this require ﬁnding a robust prompt that works in all cases, but it also often relies on few-shot\\nexampleswhichtakeupcontextspace. Whatisworse,muchofthestep-by-stepreasoningontheinternet\\nmisses intermediate steps that a human has performed using internal memory. Humans do not write down\\nevery step they perform because it would lead to long and tedious answers. They write down the principal\\nstepsofreasoning,anddolower-levelstepsviainternalworkingmemory. Thismeansthereis\"missingdata\"\\nin written text, i.e. between written steps there are internal memory steps that are not explicitly stated.\\nSecondly,chain-of-thoughtpromptingusestheneuralnetworktoperformtasksthatitisarguablynotbest\\nsuited to doing; for example, arithmetic. Prior work has shown that accuracy on tasks like multiplication is\\nproportionaltotermfrequency(Razeghietal.,2022). Giventhatclassicalcomputersarespecializedfortasks\\nlikearithmetic,onestrategyistooﬄoadthesetasksfromtheneuralnetworktoexternalmodules. Forexample,\\nprior work has looked at the possibilities of external tool augmentation, such as calculators (Thoppilan et al.,\\n2022). However, this requires a strategy to identify where the neural network should oﬄoad; and it may\\nnotbestraightforwardwhencombinedwithadiscoveredzero-shotprompt,especiallywherelower-level\\ncomputation steps are not explicitly stated in writing.\\nOur solution is a working memory token we call <work>. We construct a few prompt datasets, see Table\\n3, that wrap step-by-by-step reasoning within <work> </work> . Some of these datasets were generated\\nprogrammatically ( OneSmallStep ), by creating a problem template and sampling the variables, others were\\nsourced online ( Workout,Khan Problems ), and others used existing datasets and transformed them into a\\n<work>basedcontext( GSM8ktrain ). Whereacomputationisperformedthatahumancouldnotdointernally,\\nwe oﬄoad by writing and executing a Python script. An example is shown in Figure 3. Importantly, we\\ndo not have to turn this on, and the model can also predict the output from running a program. For our\\nexperiments, we did not ﬁnd the need to turn Python oﬄoading on, and leave this aspect to future work.\\nLonger term, an architecture change may be needed to support adaptive computation, so machines can have\\ninternalworkingmemoryonthelinesofworksuchasadaptivecomputationtimeandPonderNet(Graves,\\n2016; Banino et al., 2021). In this paper, we explore the <work>external working memory approach as a\\n6'"
      ]
     },
     "execution_count": 20,
     "metadata": {},
     "output_type": "execute_result"
    }
   ],
   "source": [
    "import PyPDF2 as pp\n",
    "\n",
    "file = open('GALACTICA.pdf','rb')\n",
    "reader = pp.PdfReader(file)\n",
    "page = 5\n",
    "contents = reader.pages[page]\n",
    "contents.extract_text()"
   ]
  },
  {
   "cell_type": "markdown",
   "id": "00c48285",
   "metadata": {},
   "source": [
    "#### 3. What PdfFileReader variable stores the number of pages in the PDF document?"
   ]
  },
  {
   "cell_type": "code",
   "execution_count": 32,
   "id": "cfefbbbe",
   "metadata": {},
   "outputs": [
    {
     "data": {
      "text/plain": [
       "58"
      ]
     },
     "execution_count": 32,
     "metadata": {},
     "output_type": "execute_result"
    }
   ],
   "source": [
    "import PyPDF2 as pdf\n",
    "pdfFileObj = open(\"GALACTICA.pdf\",'rb')\n",
    "pdfReader = pdf.PdfReader(pdfFileObj)\n",
    "pages = len(reader.pages)\n",
    "pages"
   ]
  },
  {
   "cell_type": "markdown",
   "id": "95244a54",
   "metadata": {},
   "source": [
    "#### 4. If a PdfFileReader object’s PDF is encrypted with the password swordfish, what must you do before you can obtain Page objects from it?"
   ]
  },
  {
   "cell_type": "markdown",
   "id": "5ce25554",
   "metadata": {},
   "source": [
    "We have to provide the correct password using decrypt() method."
   ]
  },
  {
   "cell_type": "code",
   "execution_count": null,
   "id": "a58f4b5a",
   "metadata": {},
   "outputs": [],
   "source": [
    "pdf_reader = PdfFileReader(file_path)\n",
    "\n",
    "if pdf_reader.isEncrypted:\n",
    "    pdf_reader.decrypt(\"swordfish\")\n",
    "for page in pdf_reader.pages:\n",
    "    print(page.extractText())"
   ]
  },
  {
   "cell_type": "code",
   "execution_count": null,
   "id": "a25cf4bd",
   "metadata": {},
   "outputs": [],
   "source": [
    "import PyPDF2\n",
    "\n",
    "pdf_file = open('encrypted.pdf', 'rb')\n",
    "\n",
    "pdf_reader = PyPDF2.PdfFileReader(pdf_file, password= \"swordfish\")"
   ]
  },
  {
   "cell_type": "markdown",
   "id": "b41fa1aa",
   "metadata": {},
   "source": [
    "#### 5. What methods do you use to rotate a page?"
   ]
  },
  {
   "cell_type": "markdown",
   "id": "7648a229",
   "metadata": {},
   "source": [
    "We can use the rotateClockwise() and rotateCounterClockwise() methods to rotate a page in a PDF document. These methods allow you to specify the number of degrees by which you want to rotate the page.\n",
    "\n",
    "rotateClockwise(90) and rotateCounterClockwise(290)"
   ]
  },
  {
   "cell_type": "markdown",
   "id": "cf813d04",
   "metadata": {},
   "source": [
    "#### 6. What is the difference between a Run object and a Paragraph object?"
   ]
  },
  {
   "cell_type": "markdown",
   "id": "455fc8f6",
   "metadata": {},
   "source": [
    "Paragraph Object: It represents a single paragraph of text in a Word document. A paragraph is typically a block of text with a specific formatting style. It can contain more than one running object.\n",
    "\n",
    "Run Object: It represents a contiguous sequence of characters within a paragraph that share the same text formatting. It is the smallest unit of text with consistent formatting."
   ]
  },
  {
   "cell_type": "code",
   "execution_count": 2,
   "id": "9c77e006",
   "metadata": {},
   "outputs": [
    {
     "name": "stdout",
     "output_type": "stream",
     "text": [
      "Collecting python-docx\n",
      "  Downloading python-docx-0.8.11.tar.gz (5.6 MB)\n",
      "     ---------------------------------------- 5.6/5.6 MB 5.1 MB/s eta 0:00:00\n",
      "  Installing build dependencies: started\n",
      "  Installing build dependencies: finished with status 'done'\n",
      "  Getting requirements to build wheel: started\n",
      "  Getting requirements to build wheel: finished with status 'done'\n",
      "  Preparing metadata (pyproject.toml): started\n",
      "  Preparing metadata (pyproject.toml): finished with status 'done'\n",
      "Requirement already satisfied: lxml>=2.3.2 in c:\\python37\\lib\\site-packages (from python-docx) (4.9.3)\n",
      "Building wheels for collected packages: python-docx\n",
      "  Building wheel for python-docx (pyproject.toml): started\n",
      "  Building wheel for python-docx (pyproject.toml): finished with status 'done'\n",
      "  Created wheel for python-docx: filename=python_docx-0.8.11-py3-none-any.whl size=184515 sha256=b7e696d227027e43bcc7d82ca361bcc2477d4422f513d9005005972c95c7b933\n",
      "  Stored in directory: c:\\users\\jovite jeffrin\\appdata\\local\\pip\\cache\\wheels\\f6\\6f\\b9\\d798122a8b55b74ad30b5f52b01482169b445fbb84a11797a6\n",
      "Successfully built python-docx\n",
      "Installing collected packages: python-docx\n",
      "Successfully installed python-docx-0.8.11\n",
      "Note: you may need to restart the kernel to use updated packages.\n"
     ]
    },
    {
     "name": "stderr",
     "output_type": "stream",
     "text": [
      "WARNING: Ignoring invalid distribution -otebook (c:\\python37\\lib\\site-packages)\n",
      "WARNING: Ignoring invalid distribution -otebook (c:\\python37\\lib\\site-packages)\n",
      "\n",
      "[notice] A new release of pip is available: 23.1.2 -> 23.2.1\n",
      "[notice] To update, run: python.exe -m pip install --upgrade pip\n"
     ]
    }
   ],
   "source": [
    "pip install python-docx"
   ]
  },
  {
   "cell_type": "markdown",
   "id": "b4af8629",
   "metadata": {},
   "source": [
    "#### 7. How do you obtain a list of Paragraph objects for a Document object that’s stored in a variable named doc?\n"
   ]
  },
  {
   "cell_type": "code",
   "execution_count": 5,
   "id": "713f7dbb",
   "metadata": {},
   "outputs": [
    {
     "name": "stdout",
     "output_type": "stream",
     "text": [
      "1. In the below elements which of them are values or an expression? eg:- values can be integer or string and expressions will be mathematical operators.\n",
      "* - Expressions\n",
      "'hello' - Strings\n",
      "-87.8 - Integer\n",
      "- - Expression\n",
      "/  - Expression\n",
      "- Expression\n",
      "6 - Integer\n",
      "\n",
      "2. What is the difference between string and variable?\n",
      "\tStrings are the set of charachters (Alphabets) that is used in inputs and to print the output. Strings are declared in python within single quotes and double quotes. Whereas variable is the one which stores the value in it. \n",
      "\tEx: String:  “Hello World”, ‘Welcome’\n",
      "\t      Variable: num_1 = 10 \n",
      "\t\t         num_2 = 30\n",
      "\n",
      "3. Describe three different data types.\n",
      "Integer - This value is represented by int class. It contains positive or negative   whole numbers. Ex: number = 10\n",
      "Float - This value is represented by the float class. It is a real number with a floating-point representation. Ex: length = 10.8\n",
      "Strings - A string is a collection of one or more characters put in a single quote, double-quote, or triple-quote. Ex: name = “Jebastian”\n",
      "\n",
      "4. What is an expression made up of? What do all expressions do?\n",
      "Arithmetic expression: A combination of numeric values, operators. The result of this type of expression is also a numeric value. The operators used in arithmetic operators are addition, subtraction, etc.\n",
      "+\t- Addition\n",
      "–\t- Subtraction\n",
      "*\t- Multiplication\n",
      "/\t- Division\n",
      "//\t- Quotient\n",
      "%\t- Remainder\n",
      "**\t- Exponentiation\n",
      "\n",
      "Relational expression: It compares the both sides of the operands accordingly.\n",
      "\t> : Greater than\n",
      "< : Less than \n",
      ">= : Greater than equal to\n",
      "<= : Less than equal to \n",
      "Logical Expression : By specific conditions, these expressions compare both and result in either True or False. \n",
      "\tand\t-\tIt returns true if both are true otherwise returns false\n",
      "or\t-\tIt returns true if at least one is true\n",
      "not\t-\tIt returns true if condition one  is false\n",
      "\n",
      "\n",
      "5. This assignment statements, like spam = 10. What is the difference between an expression and a statement?\n",
      "\tExpressions can be assigned or used as operands. Whereas statements can only be declared.\n",
      "\n",
      "\n",
      "\n",
      "6. After running the following code, what does the variable bacon contain?\n",
      "bacon = 22\n",
      "bacon + 1\n",
      "The value 22 is stored in the variable bacon. Since we have bacon+1, the value will be incremented by 1. And the final answer will be 23 and it will be relaced in the bacon variable.\n",
      " \n",
      "\n",
      "7. What should the values of the following two terms be?\n",
      "'spam' + 'spamspam'\n",
      "'spam' * 3\n",
      "\tThe two terms perform the concatenation which is the special feature in python. The two statements return the same values as the output.\n",
      "\n",
      "8. Why is eggs a valid variable name while 100 is invalid?\n",
      "\tEggs is the character(alphabet) and it starts with alphabet and doesn’t starts with numbers nor special characters. Whereas 100 is an integer and integer can’t be a variable name.\n",
      "9. What three functions can be used to get the integer, floating-point number, or string version of a value?\n",
      "\tint() for integer, float() for float and str() for string.\n",
      "\n",
      "10. Why does this expression cause an error? How can you fix it?\n",
      "'I have eaten ' + 99 + ' burritos.'\n",
      "\tWe can’t concatenate string with an integer. So we can convert the integer into string by including single quotes to it.\n",
      "\n",
      "\n"
     ]
    }
   ],
   "source": [
    "from docx import Document\n",
    "\n",
    "doc = Document('Python_Assignment_1.docx')\n",
    "\n",
    "paragraphs = doc.paragraphs\n",
    "\n",
    "for paragraph in paragraphs:\n",
    "    print(paragraph.text)"
   ]
  },
  {
   "cell_type": "markdown",
   "id": "6330e4fb",
   "metadata": {},
   "source": [
    "#### 8. What type of object has bold, underline, italic, strike, and outline variables?\n"
   ]
  },
  {
   "cell_type": "markdown",
   "id": "7a299423",
   "metadata": {},
   "source": [
    "A Run object has bold, underline,italic,strike and outline variables"
   ]
  },
  {
   "cell_type": "markdown",
   "id": "4be90f9f",
   "metadata": {},
   "source": [
    "#### 9. What is the difference between False, True, and None for the bold variable?\n"
   ]
  },
  {
   "cell_type": "markdown",
   "id": "0650d8cc",
   "metadata": {},
   "source": [
    "True makes the text bold.\n",
    "\n",
    "False removes bold formatting, making the text regular.\n",
    "\n",
    "None allows the text to inherit bold formatting from the paragraph or style, and if there is no explicit bold formatting applied higher up, it remains non-bold."
   ]
  },
  {
   "cell_type": "markdown",
   "id": "287c7661",
   "metadata": {},
   "source": [
    "#### 10. How do you create a Document object for a new Word document?\n"
   ]
  },
  {
   "cell_type": "code",
   "execution_count": 7,
   "id": "38a3d19a",
   "metadata": {},
   "outputs": [],
   "source": [
    "import docx\n",
    "doc = docx.Document()\n",
    "doc.add_paragraph('Hello there!')\n",
    "doc.save('hellothere.docx')"
   ]
  },
  {
   "cell_type": "markdown",
   "id": "1e43d803",
   "metadata": {},
   "source": [
    "#### 11. How do you add a paragraph with the text 'Hello, there!' to a Document object stored in a variable named doc?\n"
   ]
  },
  {
   "cell_type": "code",
   "execution_count": 8,
   "id": "95ec63e7",
   "metadata": {},
   "outputs": [],
   "source": [
    "doc = Document()\n",
    "doc.add_paragraph('Hello, there!')\n",
    "doc.save('hello.docx')"
   ]
  },
  {
   "cell_type": "markdown",
   "id": "4ef7639c",
   "metadata": {},
   "source": [
    "#### 12. What integers represent the levels of headings available in Word documents?"
   ]
  },
  {
   "cell_type": "markdown",
   "id": "19c0b4cc",
   "metadata": {},
   "source": [
    "The arguments to add_heading() are a string of the heading text and an integer from 0 to 4. The integer 0 makes the heading the Title style, which is used for the top of the document. Integers 1 to 4 are for various heading levels, with 1 being the main heading and 4 the lowest subheading"
   ]
  }
 ],
 "metadata": {
  "kernelspec": {
   "display_name": "Python 3 (ipykernel)",
   "language": "python",
   "name": "python3"
  },
  "language_info": {
   "codemirror_mode": {
    "name": "ipython",
    "version": 3
   },
   "file_extension": ".py",
   "mimetype": "text/x-python",
   "name": "python",
   "nbconvert_exporter": "python",
   "pygments_lexer": "ipython3",
   "version": "3.7.8"
  }
 },
 "nbformat": 4,
 "nbformat_minor": 5
}
