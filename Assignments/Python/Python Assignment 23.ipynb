{
 "cells": [
  {
   "cell_type": "markdown",
   "id": "d952c6cd",
   "metadata": {},
   "source": [
    "### 1. What is the result of the code, and why?"
   ]
  },
  {
   "cell_type": "code",
   "execution_count": 1,
   "id": "d975d0b4",
   "metadata": {},
   "outputs": [
    {
     "name": "stdout",
     "output_type": "stream",
     "text": [
      "1 2 8\n"
     ]
    }
   ],
   "source": [
    "def func(a, b=6, c=8):\n",
    "    print(a, b, c)\n",
    "\n",
    "func(1, 2)"
   ]
  },
  {
   "cell_type": "markdown",
   "id": "4a605304",
   "metadata": {},
   "source": [
    "Here the func() take the positional arguments. The value of 1 and 2 represents the value a and b in the function and the b value will be replaced as 2. Hence the result will be as above."
   ]
  },
  {
   "cell_type": "markdown",
   "id": "d8feb260",
   "metadata": {},
   "source": [
    "### 2. What is the result of this code, and why?"
   ]
  },
  {
   "cell_type": "code",
   "execution_count": 2,
   "id": "45574279",
   "metadata": {},
   "outputs": [
    {
     "name": "stdout",
     "output_type": "stream",
     "text": [
      "1 2 3\n"
     ]
    }
   ],
   "source": [
    "def func(a, b, c=5):\n",
    "    print(a, b, c)\n",
    "\n",
    "func(1, c=3, b=2)"
   ]
  },
  {
   "cell_type": "markdown",
   "id": "f8ab19d4",
   "metadata": {},
   "source": [
    "We pass the positional arguments with the keywords, so the function will take the values in default. "
   ]
  },
  {
   "cell_type": "markdown",
   "id": "d76af760",
   "metadata": {},
   "source": [
    "### 3. How about this code: what is its result, and why?"
   ]
  },
  {
   "cell_type": "code",
   "execution_count": 23,
   "id": "6cc97307",
   "metadata": {},
   "outputs": [
    {
     "name": "stdout",
     "output_type": "stream",
     "text": [
      "1 (2, 3)\n"
     ]
    }
   ],
   "source": [
    "def func(a, *pargs):\n",
    "    print(a, pargs)\n",
    "\n",
    "func(1, 2, 3)"
   ]
  },
  {
   "cell_type": "markdown",
   "id": "552cd2eb",
   "metadata": {},
   "source": [
    "In this code, *pargs return the value as tuple. So it will take the first argument by position and the rest in tuple."
   ]
  },
  {
   "cell_type": "markdown",
   "id": "8dce0ea6",
   "metadata": {},
   "source": [
    "### 4. What does this code print, and why?"
   ]
  },
  {
   "cell_type": "code",
   "execution_count": 4,
   "id": "fa985abc",
   "metadata": {},
   "outputs": [
    {
     "name": "stdout",
     "output_type": "stream",
     "text": [
      "1 {'c': 3, 'b': 2}\n"
     ]
    }
   ],
   "source": [
    "def func(a, **kargs):\n",
    "    print(a, kargs)\n",
    "\n",
    "func(a=1, c=3, b=2)"
   ]
  },
  {
   "cell_type": "markdown",
   "id": "adb83036",
   "metadata": {},
   "source": [
    "In this code, **kargs return the values in dictionary. The values will be accepted by the function in position and rest as the dictionary"
   ]
  },
  {
   "cell_type": "markdown",
   "id": "7bc9cddb",
   "metadata": {},
   "source": [
    "### 5. What gets printed by this, and explain?"
   ]
  },
  {
   "cell_type": "code",
   "execution_count": 5,
   "id": "86c358a4",
   "metadata": {},
   "outputs": [
    {
     "name": "stdout",
     "output_type": "stream",
     "text": [
      "1 5 6 5\n"
     ]
    }
   ],
   "source": [
    "def func(a, b, c=8, d=5): \n",
    "    print(a, b, c, d)\n",
    "\n",
    "func(1, *(5, 6))"
   ]
  },
  {
   "cell_type": "markdown",
   "id": "969bf219",
   "metadata": {},
   "source": [
    "'*' is an unpack operator and it unpacks the iterable objects which can be iteratable in python. So, the argument gets unpack and the values will be assigned to b and c. Rest value will be print the default values. "
   ]
  },
  {
   "cell_type": "markdown",
   "id": "296c4ff1",
   "metadata": {},
   "source": [
    "### 6. what is the result of this, and explain?"
   ]
  },
  {
   "cell_type": "code",
   "execution_count": 18,
   "id": "5979ebc8",
   "metadata": {},
   "outputs": [
    {
     "data": {
      "text/plain": [
       "(1, ['x'], {'a': 'y'})"
      ]
     },
     "execution_count": 18,
     "metadata": {},
     "output_type": "execute_result"
    }
   ],
   "source": [
    "def func(a, b, c): \n",
    "    a = 2; b[0] = 'x'; c['a'] = 'y' \n",
    "\n",
    "l=1; m=[1]; n={'a':0}\n",
    "\n",
    "func(l, m, n)\n",
    "\n",
    "l,m,n"
   ]
  },
  {
   "cell_type": "markdown",
   "id": "24466a1a",
   "metadata": {},
   "source": [
    "Here in this code, the list and dictionary are passed as arguments. The l and b are passed as list and it store in the same memory location. The C and n are stored in the same memory location. So the value will get mutated if the update comes. "
   ]
  }
 ],
 "metadata": {
  "kernelspec": {
   "display_name": "Python 3 (ipykernel)",
   "language": "python",
   "name": "python3"
  },
  "language_info": {
   "codemirror_mode": {
    "name": "ipython",
    "version": 3
   },
   "file_extension": ".py",
   "mimetype": "text/x-python",
   "name": "python",
   "nbconvert_exporter": "python",
   "pygments_lexer": "ipython3",
   "version": "3.7.8"
  }
 },
 "nbformat": 4,
 "nbformat_minor": 5
}
