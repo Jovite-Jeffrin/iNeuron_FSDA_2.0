{
 "cells": [
  {
   "cell_type": "markdown",
   "id": "d8d7e5cf",
   "metadata": {},
   "source": [
    "### 1. Create a zoo.py file first. Define the hours() function, which prints the string 'Open 9-5 daily'. Then, use the interactive interpreter to import the zoo module and call its hours() function."
   ]
  },
  {
   "cell_type": "markdown",
   "id": "0961d1c8",
   "metadata": {},
   "source": [
    "I have created a file \"zoo.py\" contains a function hours() which has print statement"
   ]
  },
  {
   "cell_type": "code",
   "execution_count": 6,
   "id": "bcc88894",
   "metadata": {},
   "outputs": [
    {
     "name": "stdout",
     "output_type": "stream",
     "text": [
      "Open 9-5 daily\n"
     ]
    }
   ],
   "source": [
    "import zoo\n",
    "\n",
    "zoo.hours()"
   ]
  },
  {
   "cell_type": "markdown",
   "id": "be8f98d7",
   "metadata": {},
   "source": [
    "### 2. In the interactive interpreter, import the zoo module as menagerie and call its hours() function."
   ]
  },
  {
   "cell_type": "code",
   "execution_count": 8,
   "id": "96e2a4ca",
   "metadata": {},
   "outputs": [
    {
     "name": "stdout",
     "output_type": "stream",
     "text": [
      "Open 9-5 daily\n"
     ]
    }
   ],
   "source": [
    "import zoo as z\n",
    "\n",
    "z.hours()"
   ]
  },
  {
   "cell_type": "markdown",
   "id": "18ed7e4c",
   "metadata": {},
   "source": [
    "### 3. Using the interpreter, explicitly import and call the hours() function from zoo."
   ]
  },
  {
   "cell_type": "code",
   "execution_count": 9,
   "id": "b8b05cf3",
   "metadata": {},
   "outputs": [],
   "source": [
    "from zoo import hours"
   ]
  },
  {
   "cell_type": "code",
   "execution_count": 10,
   "id": "c2189ed9",
   "metadata": {},
   "outputs": [
    {
     "name": "stdout",
     "output_type": "stream",
     "text": [
      "Open 9-5 daily\n"
     ]
    }
   ],
   "source": [
    "hours()"
   ]
  },
  {
   "cell_type": "markdown",
   "id": "05df1aed",
   "metadata": {},
   "source": [
    "### 4. Import the hours() function as info and call it."
   ]
  },
  {
   "cell_type": "code",
   "execution_count": 12,
   "id": "fe8fac89",
   "metadata": {},
   "outputs": [],
   "source": [
    "from zoo import hours as info"
   ]
  },
  {
   "cell_type": "code",
   "execution_count": 14,
   "id": "99b912b4",
   "metadata": {},
   "outputs": [
    {
     "name": "stdout",
     "output_type": "stream",
     "text": [
      "Open 9-5 daily\n"
     ]
    }
   ],
   "source": [
    "info()"
   ]
  },
  {
   "cell_type": "markdown",
   "id": "fc6b4d52",
   "metadata": {},
   "source": [
    "### 5. Create a plain dictionary with the key-value pairs 'a': 1, 'b': 2, 'c': 3, and print it out."
   ]
  },
  {
   "cell_type": "code",
   "execution_count": 16,
   "id": "c12f0f7f",
   "metadata": {},
   "outputs": [
    {
     "data": {
      "text/plain": [
       "{'a': 1, 'b': 2, 'c': 3}"
      ]
     },
     "execution_count": 16,
     "metadata": {},
     "output_type": "execute_result"
    }
   ],
   "source": [
    "plain = {'a': 1, 'b': 2, 'c': 3}\n",
    "plain"
   ]
  },
  {
   "cell_type": "markdown",
   "id": "18e4af01",
   "metadata": {},
   "source": [
    "### 6.Make an OrderedDict called fancy from the same pairs listed in 5 and print it. Did it print in the same order as plain?a"
   ]
  },
  {
   "cell_type": "code",
   "execution_count": 17,
   "id": "9dec1d7d",
   "metadata": {},
   "outputs": [
    {
     "data": {
      "text/plain": [
       "OrderedDict([('a', 1), ('b', 2), ('c', 3)])"
      ]
     },
     "execution_count": 17,
     "metadata": {},
     "output_type": "execute_result"
    }
   ],
   "source": [
    "from collections import OrderedDict\n",
    "fancy = OrderedDict([('a', 1), ('b', 2), ('c', 3)])\n",
    "fancy "
   ]
  },
  {
   "cell_type": "markdown",
   "id": "32ac20b4",
   "metadata": {},
   "source": [
    "### 7. Make a defaultdict called dict_of_lists and pass it the argument list. Make the list dict_of_lists['a'] and append the value 'something for a' to it in one assignment. Print dict_of_lists['a']"
   ]
  },
  {
   "cell_type": "code",
   "execution_count": 18,
   "id": "7eb297e9",
   "metadata": {},
   "outputs": [],
   "source": [
    "from collections import defaultdict\n",
    "dict_of_lists = defaultdict(list)"
   ]
  },
  {
   "cell_type": "code",
   "execution_count": 19,
   "id": "dc3cb6e2",
   "metadata": {},
   "outputs": [
    {
     "data": {
      "text/plain": [
       "['something for a']"
      ]
     },
     "execution_count": 19,
     "metadata": {},
     "output_type": "execute_result"
    }
   ],
   "source": [
    "dict_of_lists['a'].append('something for a')\n",
    "dict_of_lists['a']"
   ]
  }
 ],
 "metadata": {
  "kernelspec": {
   "display_name": "Python 3 (ipykernel)",
   "language": "python",
   "name": "python3"
  },
  "language_info": {
   "codemirror_mode": {
    "name": "ipython",
    "version": 3
   },
   "file_extension": ".py",
   "mimetype": "text/x-python",
   "name": "python",
   "nbconvert_exporter": "python",
   "pygments_lexer": "ipython3",
   "version": "3.7.8"
  }
 },
 "nbformat": 4,
 "nbformat_minor": 5
}
